{
 "cells": [
  {
   "cell_type": "code",
   "execution_count": null,
   "id": "a202945e",
   "metadata": {},
   "outputs": [],
   "source": [
    "import numpy as np\n",
    "import pandas as pd\n",
    "\n",
    "from pmdarima.arima import auto_arima\n",
    "\n",
    "from keras.models import Sequential\n",
    "from keras.layers import Dense, LSTM, Dropout"
   ]
  },
  {
   "cell_type": "code",
   "execution_count": null,
   "id": "7f18198a",
   "metadata": {},
   "outputs": [],
   "source": [
    "SPY_df = pd.read_csv ('SPY.csv')"
   ]
  },
  {
   "cell_type": "code",
   "execution_count": null,
   "id": "53c42cb7",
   "metadata": {},
   "outputs": [],
   "source": [
    "#Item 1\n",
    "SPY_df[['Date','Close']].head()"
   ]
  },
  {
   "cell_type": "code",
   "execution_count": null,
   "id": "e267a18d",
   "metadata": {},
   "outputs": [],
   "source": [
    "#Item 2\n",
    "SPY_df[['Date','High','Low','Volume','Close']].head()"
   ]
  },
  {
   "cell_type": "code",
   "execution_count": null,
   "id": "fb9b4f3e",
   "metadata": {},
   "outputs": [],
   "source": [
    "train = SPY_df.head(3876)\n",
    "test = SPY_df.tail(1660)\n",
    "\n",
    "train_tune = train.head(3101)\n",
    "train_valid = train.tail(776)"
   ]
  },
  {
   "cell_type": "code",
   "execution_count": null,
   "id": "eea35de5",
   "metadata": {},
   "outputs": [],
   "source": [
    "arma_model = auto_arima(train['Close'], out_of_sample_size = 776)"
   ]
  },
  {
   "cell_type": "code",
   "execution_count": null,
   "id": "5fbe083a",
   "metadata": {},
   "outputs": [],
   "source": [
    "arma_model"
   ]
  },
  {
   "cell_type": "code",
   "execution_count": null,
   "id": "6109b145",
   "metadata": {},
   "outputs": [],
   "source": [
    "arma_full_model = auto_arima(train['Close'],p=1,d=1,q=1)"
   ]
  },
  {
   "cell_type": "code",
   "execution_count": null,
   "id": "289a3703",
   "metadata": {},
   "outputs": [],
   "source": [
    "arma_pred = []\n",
    "for i in range(20):\n",
    "    arma_full_model = auto_arima(SPY_df.iloc[(0+i):(3876+i)]['Close'],p=1,d=1,q=1)\n",
    "    arma_pred.append(arma_full_model.predict(1))"
   ]
  },
  {
   "cell_type": "code",
   "execution_count": null,
   "id": "d4bb45e6",
   "metadata": {},
   "outputs": [],
   "source": [
    "np.mean((np.array(arma_pred)[0] - test['Close'][:20])**2)"
   ]
  },
  {
   "cell_type": "code",
   "execution_count": null,
   "id": "066d2f5d",
   "metadata": {},
   "outputs": [],
   "source": [
    "LSTM_tries = [[1,[128]],[2,[64,64]]]"
   ]
  },
  {
   "cell_type": "code",
   "execution_count": null,
   "id": "0cf19d1a",
   "metadata": {},
   "outputs": [],
   "source": [
    "#Item 3\n",
    "def auto_LSTM(train_tune_df, train_valid_df, mode='univariate', window_size = [256,512], \\\n",
    "             LSTM_setup = LSTM_tries, epochs_size = 2, h = 1):\n",
    "    \n",
    "    def windowing(series, window):\n",
    "        X, Y = list(), list()\n",
    "        for i in range(len(series)):\n",
    "            take_rng = i + window\n",
    "            if take_rng > len(series) - 1:\n",
    "                break\n",
    "            x, y = series[i:take_rng], series[take_rng]\n",
    "            X.append(x)\n",
    "            Y.append(y)\n",
    "\n",
    "        return np.array(X), np.array(Y)\n",
    "    \n",
    "    def standardize(series,mean=None,sd=None):\n",
    "        if (mean == None) and (sd == None):\n",
    "            mean = np.mean(series)\n",
    "            sd = (np.var(series))**0.5\n",
    "            return (series - mean)/sd,mean,sd\n",
    "        \n",
    "        else:\n",
    "            return (series - mean)/sd,mean,sd\n",
    "\n",
    "    if mode == 'univariate':\n",
    "        \n",
    "        res_dict = dict()\n",
    "        \n",
    "        for window in window_size:\n",
    "            \n",
    "            train, train_mu, train_sigma = standardize(train_tune_df.reset_index()['Close'])\n",
    "            val, _ , _ = standardize(train_valid_df.reset_index()['Close'], mean = train_mu, sd = train_sigma)\n",
    "            X, Y = sampling(train, window)\n",
    "            X_val, Y_val = sampling(val, window)\n",
    "            x_raw_train, y_raw_train = sampling(train_tune_df.reset_index()['Close'],window)\n",
    "            x_raw_val, y_raw_val = sampling(train_valid_df.reset_index()['Close'],window)\n",
    "            \n",
    "            for set_up in LSTM_setup:\n",
    "                num_layers = set_up[0]\n",
    "                num_neurons = set_up[1]\n",
    "                \n",
    "                curr_model = keras.Sequential()\n",
    "                \n",
    "                if num_layers == 1:\n",
    "                    curr_model.add(layers.LSTM(num_neurons[0], input_shape=(window, h),return_sequences=False))\n",
    "\n",
    "                else:\n",
    "                    for layer in range(num_layers - 1):\n",
    "                        if layer == 0:\n",
    "                            curr_model.add(layers.LSTM(num_neurons[layer], input_shape=(window, h),return_sequences=True))\n",
    "                        else:\n",
    "                            curr_model.add(layers.LSTM(num_neurons[layer], return_sequences=True))\n",
    "                    \n",
    "                    curr_model.add(layers.LSTM(num_neurons[-1], return_sequences=False))\n",
    "\n",
    "                curr_model.add(layers.Dense(1))\n",
    "                curr_model.compile(optimizer='adam', loss='mse', metrics=['mean_squared_error'])\n",
    "                print(\"training:\" + str(set_up) + ' window_size=' + str(window))\n",
    "                curr_model.fit(X, Y, epochs=epochs_size)\n",
    "                \n",
    "                train_pred = (curr_model.predict(X) * train_sigma) + train_mu\n",
    "                train_score = np.mean((train_pred - y_raw_train)**2)\n",
    "                \n",
    "                val_pred = (curr_model.predict(X_val) * train_sigma) + train_mu\n",
    "                val_score = np.mean((val_pred - y_raw_val)**2)\n",
    "                \n",
    "                \n",
    "                res_dict[str(set_up) + ' window_size=' + str(window)] = val_score\n",
    "                print(str(set_up) + ' window_size=' + str(window) + \" train_score: \" + str(train_score))\n",
    "                print(str(set_up) + ' window_size=' + str(window) + \" val_score: \" + str(val_score))\n",
    "                curr_model = None\n",
    "    \n",
    "    return min(res_dict, key=res_dict.get)\n"
   ]
  },
  {
   "cell_type": "code",
   "execution_count": null,
   "id": "89a7a308",
   "metadata": {},
   "outputs": [],
   "source": [
    "#Item 4\n",
    "res = auto_LSTM(train_tune, train_valid)\n",
    "print(res)\n",
    "\n",
    "def fit_LSTM(train_df,num_layers, num_neurons, window, mode = 'univariate',h = 1, \\\n",
    "             epochs_size = 2):\n",
    "    \n",
    "    if mode == 'univariate':\n",
    "        train, train_mu, train_sigma = standardize(train_df.reset_index()['Close'])\n",
    "        X, Y = sampling(train, window)\n",
    "\n",
    "        curr_model = keras.Sequential()\n",
    "\n",
    "        if num_layers == 1:\n",
    "            curr_model.add(layers.LSTM(num_neurons[0], input_shape=(window, h),return_sequences=False))\n",
    "\n",
    "        else:\n",
    "            for layer in range(num_layers - 1):\n",
    "                if layer == 0:\n",
    "                    curr_model.add(layers.LSTM(num_neurons[layer], input_shape=(window, h),return_sequences=True))\n",
    "                else:\n",
    "                    curr_model.add(layers.LSTM(num_neurons[layer], return_sequences=True))\n",
    "\n",
    "            curr_model.add(layers.LSTM(num_neurons[-1], return_sequences=False))\n",
    "\n",
    "        curr_model.add(layers.Dense(1))\n",
    "        curr_model.compile(optimizer='adam', loss='mse', metrics=['mean_squared_error'])\n",
    "        curr_model.fit(X, Y, epochs=epochs_size)\n",
    "    \n",
    "    return [curr_model,train_mu,train_sigma]\n",
    "\n",
    "LSTM_1 = fit_LSTM(train,1,[128],512, epochs_size = 2)\n",
    "\n",
    "LSTM_pred = []\n",
    "for i in range(20):\n",
    "    input_data = (SPY_df.iloc[(0+i):(3876+i)]['Close'].tail(512)-LSTM_1[1])/LSTM_1[2]\n",
    "    LSTM_pred.append(float((LSTM_1[0].predict([list(input_data)])*LSTM_1[2])+LSTM_1[1]))\n",
    "\n",
    "np.mean((np.array(LSTM_pred) - test['Close'][:20])**2)\n",
    "\n",
    "plt.plot(train['Close'].loc[train.shape[0]-100:train.shape[0]], color='blue')\n",
    "plt.plot(test['Close'][:20], color='blue', alpha=0.2)\n",
    "plt.plot([3876 + i for i in range(20)], arma_pred, color = 'red', linestyle = \"--\",label='ARMA')\n",
    "plt.plot([3876 + i for i in range(20)], LSTM_pred, color = 'green', linestyle = \"--\",label='LSTM')\n",
    "plt.xlabel('t')\n",
    "plt.ylabel('SPY Index Close')\n",
    "plt.legend(loc=\"upper left\")"
   ]
  }
 ],
 "metadata": {
  "kernelspec": {
   "display_name": "Python 3 (ipykernel)",
   "language": "python",
   "name": "python3"
  },
  "language_info": {
   "codemirror_mode": {
    "name": "ipython",
    "version": 3
   },
   "file_extension": ".py",
   "mimetype": "text/x-python",
   "name": "python",
   "nbconvert_exporter": "python",
   "pygments_lexer": "ipython3",
   "version": "3.10.6"
  }
 },
 "nbformat": 4,
 "nbformat_minor": 5
}
