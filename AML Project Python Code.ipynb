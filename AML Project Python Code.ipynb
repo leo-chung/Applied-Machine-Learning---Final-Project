{
 "cells": [
  {
   "cell_type": "code",
   "execution_count": 2,
   "id": "8c81e870",
   "metadata": {},
   "outputs": [
    {
     "name": "stdout",
     "output_type": "stream",
     "text": [
      "Requirement already satisfied: pmdarima in c:\\users\\13127\\anaconda3\\lib\\site-packages (2.0.2)\n",
      "Requirement already satisfied: scipy>=1.3.2 in c:\\users\\13127\\anaconda3\\lib\\site-packages (from pmdarima) (1.5.2)\n",
      "Requirement already satisfied: numpy>=1.21.2 in c:\\users\\13127\\anaconda3\\lib\\site-packages (from pmdarima) (1.23.3)\n",
      "Requirement already satisfied: statsmodels>=0.13.2 in c:\\users\\13127\\anaconda3\\lib\\site-packages (from pmdarima) (0.13.5)\n",
      "Requirement already satisfied: setuptools!=50.0.0,>=38.6.0 in c:\\users\\13127\\anaconda3\\lib\\site-packages (from pmdarima) (50.3.1.post20201107)\n",
      "Requirement already satisfied: pandas>=0.19 in c:\\users\\13127\\anaconda3\\lib\\site-packages (from pmdarima) (1.5.0)\n",
      "Requirement already satisfied: urllib3 in c:\\users\\13127\\anaconda3\\lib\\site-packages (from pmdarima) (1.25.11)\n",
      "Requirement already satisfied: joblib>=0.11 in c:\\users\\13127\\anaconda3\\lib\\site-packages (from pmdarima) (0.17.0)\n",
      "Requirement already satisfied: scikit-learn>=0.22 in c:\\users\\13127\\anaconda3\\lib\\site-packages (from pmdarima) (0.23.2)\n",
      "Requirement already satisfied: Cython!=0.29.18,!=0.29.31,>=0.29 in c:\\users\\13127\\anaconda3\\lib\\site-packages (from pmdarima) (0.29.21)\n",
      "Requirement already satisfied: patsy>=0.5.2 in c:\\users\\13127\\anaconda3\\lib\\site-packages (from statsmodels>=0.13.2->pmdarima) (0.5.3)\n",
      "Requirement already satisfied: packaging>=21.3 in c:\\users\\13127\\anaconda3\\lib\\site-packages (from statsmodels>=0.13.2->pmdarima) (22.0)\n",
      "Requirement already satisfied: python-dateutil>=2.8.1 in c:\\users\\13127\\anaconda3\\lib\\site-packages (from pandas>=0.19->pmdarima) (2.8.1)\n",
      "Requirement already satisfied: pytz>=2020.1 in c:\\users\\13127\\anaconda3\\lib\\site-packages (from pandas>=0.19->pmdarima) (2020.1)\n",
      "Requirement already satisfied: threadpoolctl>=2.0.0 in c:\\users\\13127\\anaconda3\\lib\\site-packages (from scikit-learn>=0.22->pmdarima) (2.1.0)\n",
      "Requirement already satisfied: six in c:\\users\\13127\\anaconda3\\lib\\site-packages (from patsy>=0.5.2->statsmodels>=0.13.2->pmdarima) (1.15.0)\n",
      "Requirement already satisfied: keras in c:\\users\\13127\\anaconda3\\lib\\site-packages (2.10.0)\n",
      "^C\n",
      "Requirement already satisfied: statsmodels in c:\\users\\13127\\anaconda3\\lib\\site-packages (0.13.5)\n",
      "Requirement already satisfied: scipy>=1.3; (python_version > \"3.9\" or platform_system != \"Windows\" or platform_machine != \"x86\") and python_version < \"3.12\" in c:\\users\\13127\\anaconda3\\lib\\site-packages (from statsmodels) (1.5.2)\n",
      "Requirement already satisfied: patsy>=0.5.2 in c:\\users\\13127\\anaconda3\\lib\\site-packages (from statsmodels) (0.5.3)\n",
      "Requirement already satisfied: packaging>=21.3 in c:\\users\\13127\\anaconda3\\lib\\site-packages (from statsmodels) (22.0)\n",
      "Requirement already satisfied: numpy>=1.17; python_version != \"3.10\" or platform_system != \"Windows\" or platform_python_implementation == \"PyPy\" in c:\\users\\13127\\anaconda3\\lib\\site-packages (from statsmodels) (1.23.3)\n",
      "Requirement already satisfied: pandas>=0.25 in c:\\users\\13127\\anaconda3\\lib\\site-packages (from statsmodels) (1.5.0)\n",
      "Requirement already satisfied: six in c:\\users\\13127\\anaconda3\\lib\\site-packages (from patsy>=0.5.2->statsmodels) (1.15.0)\n",
      "Requirement already satisfied: pytz>=2020.1 in c:\\users\\13127\\anaconda3\\lib\\site-packages (from pandas>=0.25->statsmodels) (2020.1)\n",
      "Requirement already satisfied: python-dateutil>=2.8.1 in c:\\users\\13127\\anaconda3\\lib\\site-packages (from pandas>=0.25->statsmodels) (2.8.1)\n",
      "Requirement already satisfied: seaborn in c:\\users\\13127\\anaconda3\\lib\\site-packages (0.11.0)\n",
      "Requirement already satisfied: matplotlib>=2.2 in c:\\users\\13127\\anaconda3\\lib\\site-packages (from seaborn) (3.3.2)\n",
      "Requirement already satisfied: pandas>=0.23 in c:\\users\\13127\\anaconda3\\lib\\site-packages (from seaborn) (1.5.0)\n",
      "Requirement already satisfied: scipy>=1.0 in c:\\users\\13127\\anaconda3\\lib\\site-packages (from seaborn) (1.5.2)\n",
      "Requirement already satisfied: numpy>=1.15 in c:\\users\\13127\\anaconda3\\lib\\site-packages (from seaborn) (1.23.3)\n",
      "Requirement already satisfied: certifi>=2020.06.20 in c:\\users\\13127\\anaconda3\\lib\\site-packages (from matplotlib>=2.2->seaborn) (2022.6.15.2)\n",
      "Requirement already satisfied: kiwisolver>=1.0.1 in c:\\users\\13127\\anaconda3\\lib\\site-packages (from matplotlib>=2.2->seaborn) (1.3.0)\n",
      "Requirement already satisfied: pyparsing!=2.0.4,!=2.1.2,!=2.1.6,>=2.0.3 in c:\\users\\13127\\anaconda3\\lib\\site-packages (from matplotlib>=2.2->seaborn) (2.4.7)\n",
      "Requirement already satisfied: python-dateutil>=2.1 in c:\\users\\13127\\anaconda3\\lib\\site-packages (from matplotlib>=2.2->seaborn) (2.8.1)\n",
      "Requirement already satisfied: pillow>=6.2.0 in c:\\users\\13127\\anaconda3\\lib\\site-packages (from matplotlib>=2.2->seaborn) (8.0.1)\n",
      "Requirement already satisfied: cycler>=0.10 in c:\\users\\13127\\anaconda3\\lib\\site-packages (from matplotlib>=2.2->seaborn) (0.10.0)\n",
      "Requirement already satisfied: pytz>=2020.1 in c:\\users\\13127\\anaconda3\\lib\\site-packages (from pandas>=0.23->seaborn) (2020.1)\n",
      "Requirement already satisfied: six>=1.5 in c:\\users\\13127\\anaconda3\\lib\\site-packages (from python-dateutil>=2.1->matplotlib>=2.2->seaborn) (1.15.0)\n"
     ]
    }
   ],
   "source": [
    "!pip3 install pmdarima\n",
    "!pip3 install keras\n",
    "!pip3 install statsmodels\n",
    "!pip install seaborn"
   ]
  },
  {
   "cell_type": "code",
   "execution_count": 504,
   "id": "f3fdc158",
   "metadata": {},
   "outputs": [],
   "source": [
    "import warnings\n",
    "warnings.simplefilter(action='ignore', category=FutureWarning)\n",
    "\n",
    "import pandas"
   ]
  },
  {
   "cell_type": "code",
   "execution_count": 3,
   "id": "15e1829b",
   "metadata": {},
   "outputs": [
    {
     "name": "stderr",
     "output_type": "stream",
     "text": [
      "C:\\Users\\13127\\anaconda3\\lib\\site-packages\\pandas\\core\\computation\\expressions.py:21: UserWarning: Pandas requires version '2.7.3' or newer of 'numexpr' (version '2.7.1' currently installed).\n",
      "  from pandas.core.computation.check import NUMEXPR_INSTALLED\n"
     ]
    }
   ],
   "source": [
    "import numpy as np\n",
    "import pandas as pd\n",
    "\n",
    "from pmdarima.arima import auto_arima\n",
    "\n",
    "from keras.models import Sequential\n",
    "from keras.layers import Dense, LSTM, Dropout"
   ]
  },
  {
   "cell_type": "code",
   "execution_count": 539,
   "id": "adedde43",
   "metadata": {},
   "outputs": [],
   "source": [
    "SPY_df = pd.read_csv ('SPY.csv')\n",
    "SPY_df['Date'] = pd.to_datetime(SPY_df['Date'],format=\"%Y-%m-%d\")\n",
    "\n",
    "graph_df = SPY_df.copy()\n",
    "graph_df.set_index(['Date'],inplace=True)\n",
    "\n",
    "plt_df = graph_df.groupby([graph_df.index.month,graph_df.index.year]).sum()"
   ]
  },
  {
   "cell_type": "code",
   "execution_count": 544,
   "id": "e2d08a00",
   "metadata": {},
   "outputs": [
    {
     "data": {
      "image/png": "[encoded data removed]",
      "text/plain": [
       "<Figure size 432x288 with 2 Axes>"
      ]
     },
     "metadata": {
      "needs_background": "light"
     },
     "output_type": "display_data"
    }
   ],
   "source": [
    "# Figure 1\n",
    "\n",
    "import matplotlib.pyplot as plt\n",
    "\n",
    "figure, axis = plt.subplots(2, 1,constrained_layout=True)\n",
    "\n",
    "\n",
    "axis[0].plot(SPY_df['Date'], SPY_df['Close'])\n",
    "axis[0].set_xlabel('Date')\n",
    "axis[0].set_ylabel('SPY Close')\n",
    "axis[0].set_title('SPY Daily Close')\n",
    "axis[0].grid()\n",
    "\n",
    "axis[1].bar([i[1] for i in plt_df.index],[int(val)/10**9 for val in plt_df['Volume']])\n",
    "axis[1].set_ylim([0, 15])\n",
    "axis[1].set_xticks([2000 + 4*i for i in range(6)])\n",
    "axis[1].set_title('SPY Monthly Volume')\n",
    "axis[1].set_ylabel('SPY Volume (in billions)')\n",
    "axis[1].set_xlabel('Date')\n",
    "axis[1].ticklabel_format(useOffset=False)\n",
    "\n",
    "plt.show()"
   ]
  },
  {
   "cell_type": "code",
   "execution_count": 6,
   "id": "3fb39b0b",
   "metadata": {},
   "outputs": [],
   "source": [
    "train = SPY_df.head(4982)\n",
    "test = SPY_df.tail(554)\n",
    "\n",
    "train_tune = train.head(4483)\n",
    "train_valid = train.tail(499)"
   ]
  },
  {
   "cell_type": "code",
   "execution_count": null,
   "id": "771b62e6",
   "metadata": {},
   "outputs": [],
   "source": [
    "from statsmodels.tsa.arima.model import ARIMA\n",
    "from statsmodels.tsa.stattools import adfuller\n",
    "\n",
    "def find_arma(train_tune_df,train_valid_df,input_parmas,adf_thres=0.05):\n",
    "    \n",
    "    param_res_dt = {}\n",
    "    pick_dt = {}\n",
    "\n",
    "    for params_comb in input_parmas:\n",
    "        valid_miss = []\n",
    "        train_miss = []\n",
    "\n",
    "        valid_APE_miss = []\n",
    "        train_APE_miss = []\n",
    "\n",
    "        for i in range(len(train_valid_df)):\n",
    "            use_data = list(train_tune_df['Close'][i:]) + list(train_valid_df['Close'][0:i])\n",
    "            \n",
    "            no_diff = adfuller(use_data)\n",
    "            if no_diff[1] > adf_thres:\n",
    "                diff = adfuller(np.diff(use_data))\n",
    "                if diff[1] > adf_thres:\n",
    "                    print('issue at i:' + i)\n",
    "                    break\n",
    "                if diff[1] > adf_thres:\n",
    "                    d = 1\n",
    "            else:\n",
    "                d = 0\n",
    "            \n",
    "            curr_model = ARIMA(use_data, order=(params_comb[0],d,params_comb[2]))\n",
    "            curr_model_fit = curr_model.fit()\n",
    "\n",
    "            valid_miss.append(curr_model_fit.forecast() - list(train_valid_df['Close'])[i])\n",
    "            train_miss.append(curr_model_fit.mse)\n",
    "\n",
    "            valid_APE_miss.append(abs(curr_model_fit.forecast() - list(train_valid_df['Close'])[i])/abs(list(train_valid_df['Close'])[i]))\n",
    "            train_APE_miss.append(np.mean(abs(np.array(curr_model_fit.fittedvalues[1:]) - np.array(use_data[1:]))/abs(np.array(use_data[1:]))))\n",
    "\n",
    "        param_res_dt[params_comb] = [np.mean([miss_val**2 for miss_val in valid_miss]),np.mean(train_miss),np.mean(valid_APE_miss),np.mean(train_APE_miss)]\n",
    "        pick_dt[params_comb] = np.mean([miss_val**2 for miss_val in valid_miss])\n",
    "        \n",
    "        return min(pick_dt, key=pick_dt.get)\n",
    "    "
   ]
  },
  {
   "cell_type": "code",
   "execution_count": null,
   "id": "e6800f2c",
   "metadata": {
    "scrolled": true
   },
   "outputs": [],
   "source": [
    "from statsmodels.tsa.arima.model import ARIMA\n",
    "\n",
    "import itertools\n",
    "input_params = [[0,1,2],[0,1,2]]\n",
    "params_combs = list(itertools.product(*input_params))\n",
    "\n",
    "param_res_dt = {}\n",
    "\n",
    "for params_comb in params_combs:\n",
    "    valid_miss = []\n",
    "    train_miss = []\n",
    "    \n",
    "    valid_APE_miss = []\n",
    "    train_APE_miss = []\n",
    "    \n",
    "    len(train_valid)\n",
    "    \n",
    "    for i in range(len(train_valid)):\n",
    "        print(i)\n",
    "        use_data = list(train_tune['Close'][i:]) + list(train_valid['Close'][0:i])\n",
    "        curr_model = ARIMA(use_data, order=(params_comb[0],params_comb[1],params_comb[2]))\n",
    "        curr_model_fit = curr_model.fit()\n",
    "        \n",
    "        valid_miss.append(curr_model_fit.forecast() - list(train_valid['Close'])[i])\n",
    "        train_miss.append(curr_model_fit.mse)\n",
    "        \n",
    "        valid_APE_miss.append(abs(curr_model_fit.forecast() - list(train_valid['Close'])[i])/abs(list(train_valid['Close'])[i]))\n",
    "        train_APE_miss.append(np.mean(abs(np.array(curr_model_fit.fittedvalues[1:]) - np.array(use_data[1:]))/abs(np.array(use_data[1:]))))\n",
    "        \n",
    "    param_res_dt[params_comb] = [np.mean([miss_val**2 for miss_val in valid_miss]),np.mean(train_miss),np.mean(valid_APE_miss),np.mean(train_APE_miss)]\n",
    "    print(params_comb)"
   ]
  },
  {
   "cell_type": "code",
   "execution_count": null,
   "id": "c1a18f68",
   "metadata": {},
   "outputs": [],
   "source": [
    "from statsmodels.tsa.stattools import adfuller\n",
    "\n",
    "no_diff = []\n",
    "diff = []\n",
    "\n",
    "for i in range(len(train_valid)):\n",
    "    use_data = np.array(list(train_tune['Close'][i:]) + list(train_valid['Close'][0:i]))\n",
    "    y = adfuller(use_data)\n",
    "    no_diff.append(y[1])\n",
    "    x = adfuller(np.diff(use_data))\n",
    "    diff.append(x[1])"
   ]
  },
  {
   "cell_type": "code",
   "execution_count": null,
   "id": "984c6eaf",
   "metadata": {},
   "outputs": [],
   "source": [
    "param_res_df = pd.DataFrame({'Parameters':[list(param_res_dt.keys())][0],'Val. MSE':[param_res_dt[i][0] for i in param_res_dt],'Train MSE':[param_res_dt[i][1] for i in param_res_dt],'Val. MAPE':[param_res_dt[i][2] for i in param_res_dt]})"
   ]
  },
  {
   "cell_type": "code",
   "execution_count": null,
   "id": "d3a275ac",
   "metadata": {},
   "outputs": [],
   "source": [
    "param_res_df['MSE change'] = param_res_df['Val. MSE']/param_res_df['Train MSE']\n",
    "param_res_df['Val. MSE'] = param_res_df['Val. MSE'].round(2)\n",
    "param_res_df['Train MSE'] = param_res_df['Train MSE'].round(2)\n",
    "\n",
    "param_res_df['MSE change'] = param_res_df['MSE change'].round(3).astype(str) + 'x'\n",
    "\n",
    "param_res_df['Val. MAPE'] = param_res_df['Val. MAPE'] * 100\n",
    "\n",
    "param_res_df['Val. MAPE'] = param_res_df['Val. MAPE'].round(3).astype(str) + '%'\n",
    "\n",
    "param_res_df[['Parameters','Val. MSE','Train MSE','Val. MAPE']]"
   ]
  },
  {
   "cell_type": "code",
   "execution_count": null,
   "id": "ff93c5ec",
   "metadata": {
    "scrolled": true
   },
   "outputs": [],
   "source": [
    "# Figure 2\n",
    "\n",
    "from mpl_toolkits import mplot3d\n",
    "fig = plt.figure()\n",
    "ax = plt.axes(projection='3d')\n",
    "\n",
    "zline = [row for row in param_res_df['Val. MSE']]\n",
    "xline = [row[0] for row in param_res_df['Parameters']]\n",
    "yline = [row[2] for row in param_res_df['Parameters']]\n",
    "\n",
    "ax.plot(xline, yline, zline, c='blue',label='traversed')\n",
    "ax.set_xlabel('p')\n",
    "ax.set_ylabel('q')\n",
    "ax.set_zlabel('Validation Set MSE', rotation=90)\n",
    "\n",
    "ax.scatter3D(2, 0, 6.65223, c='red', marker = 'v',label='lowest MSE')\n",
    "\n",
    "ax.legend()\n",
    "\n",
    "ax.azim, ax.elev = 300,20"
   ]
  },
  {
   "cell_type": "code",
   "execution_count": 11,
   "id": "aa560484",
   "metadata": {},
   "outputs": [],
   "source": [
    "import keras\n",
    "import tensorflow as tf\n",
    "from tensorflow.keras.models import Sequential\n",
    "from tensorflow.keras.layers import Dense\n",
    "import tensorflow.keras.layers as layers"
   ]
  },
  {
   "cell_type": "code",
   "execution_count": 280,
   "id": "db6ed24d",
   "metadata": {},
   "outputs": [],
   "source": [
    "LSTM_tries = [[5,5],[10,10],[25,25],[50,50],[100,100]]"
   ]
  },
  {
   "cell_type": "code",
   "execution_count": null,
   "id": "621262a3",
   "metadata": {},
   "outputs": [
    {
     "name": "stdout",
     "output_type": "stream",
     "text": [
      "training:[5, 5] window_size=5\n",
      "Epoch 1/5\n",
      "140/140 [==============================] - 3s 5ms/step - loss: 21708.7324 - mean_squared_error: 21708.7324\n",
      "Epoch 2/5\n",
      "140/140 [==============================] - 1s 5ms/step - loss: 21556.5547 - mean_squared_error: 21556.5547\n",
      "Epoch 3/5\n",
      "140/140 [==============================] - 1s 5ms/step - loss: 21444.3242 - mean_squared_error: 21444.3242\n",
      "Epoch 4/5\n",
      "140/140 [==============================] - 1s 5ms/step - loss: 21334.2969 - mean_squared_error: 21334.2969\n",
      "Epoch 5/5\n",
      "140/140 [==============================] - 1s 5ms/step - loss: 21225.4336 - mean_squared_error: 21225.4336\n",
      "140/140 [==============================] - 1s 2ms/step\n",
      "16/16 [==============================] - 0s 3ms/step\n",
      "[5, 5] window_size=5 train_score: 17529.66427349043\n",
      "[5, 5] window_size=5 val_score: 256.91094712754966\n",
      "training:[10, 10] window_size=10\n",
      "Epoch 1/5\n",
      "140/140 [==============================] - 3s 7ms/step - loss: 21852.5703 - mean_squared_error: 21852.5703\n",
      "Epoch 2/5\n",
      "140/140 [==============================] - 1s 7ms/step - loss: 21457.9121 - mean_squared_error: 21457.9121\n",
      "Epoch 3/5\n",
      "140/140 [==============================] - 1s 7ms/step - loss: 21193.7949 - mean_squared_error: 21193.7949\n",
      "Epoch 4/5\n",
      "140/140 [==============================] - 1s 7ms/step - loss: 20948.1719 - mean_squared_error: 20948.1719\n",
      "Epoch 5/5\n",
      "140/140 [==============================] - 1s 6ms/step - loss: 20574.1543 - mean_squared_error: 20574.1543\n",
      "140/140 [==============================] - 1s 3ms/step\n",
      "16/16 [==============================] - 0s 3ms/step\n",
      "[10, 10] window_size=10 train_score: 60742.89478452262\n",
      "[10, 10] window_size=10 val_score: 11737.347495128945\n",
      "training:[25, 25] window_size=25\n",
      "Epoch 1/5\n",
      "140/140 [==============================] - 4s 14ms/step - loss: 21357.7637 - mean_squared_error: 21357.7637\n",
      "Epoch 2/5\n",
      "140/140 [==============================] - 2s 14ms/step - loss: 20083.1152 - mean_squared_error: 20083.1152\n",
      "Epoch 3/5\n",
      "140/140 [==============================] - 2s 13ms/step - loss: 19224.1113 - mean_squared_error: 19224.1113\n",
      "Epoch 4/5\n",
      "140/140 [==============================] - 2s 13ms/step - loss: 18554.1719 - mean_squared_error: 18554.1719\n",
      "Epoch 5/5\n",
      "140/140 [==============================] - 2s 14ms/step - loss: 17948.8652 - mean_squared_error: 17948.8652\n",
      "140/140 [==============================] - 1s 4ms/step\n",
      "16/16 [==============================] - 0s 5ms/step\n",
      "[25, 25] window_size=25 train_score: 456424.06892082375\n",
      "[25, 25] window_size=25 val_score: 290639.92356828507\n",
      "training:[50, 50] window_size=50\n",
      "Epoch 1/5\n",
      "139/139 [==============================] - 7s 35ms/step - loss: 20564.1328 - mean_squared_error: 20564.1328\n",
      "Epoch 2/5\n",
      "139/139 [==============================] - 5s 33ms/step - loss: 18235.6191 - mean_squared_error: 18235.6191\n",
      "Epoch 3/5\n",
      "139/139 [==============================] - 5s 33ms/step - loss: 16750.1289 - mean_squared_error: 16750.1289\n",
      "Epoch 4/5\n",
      "139/139 [==============================] - 5s 34ms/step - loss: 15498.5605 - mean_squared_error: 15498.5605\n",
      "Epoch 5/5\n",
      "139/139 [==============================] - 5s 34ms/step - loss: 14351.5615 - mean_squared_error: 14351.5615\n",
      "139/139 [==============================] - 2s 12ms/step\n",
      "16/16 [==============================] - 0s 12ms/step\n",
      "[50, 50] window_size=50 train_score: 1828873.735624851\n",
      "[50, 50] window_size=50 val_score: 1479653.660108027\n",
      "training:[100, 100] window_size=100\n",
      "Epoch 1/5\n",
      "137/137 [==============================] - 42s 289ms/step - loss: 19149.8672 - mean_squared_error: 19149.8672\n",
      "Epoch 2/5\n",
      "137/137 [==============================] - 39s 288ms/step - loss: 14935.0635 - mean_squared_error: 14935.0635\n",
      "Epoch 3/5\n",
      "137/137 [==============================] - 40s 291ms/step - loss: 12280.4277 - mean_squared_error: 12280.4277\n",
      "Epoch 4/5\n",
      "137/137 [==============================] - 39s 287ms/step - loss: 10159.1846 - mean_squared_error: 10159.1846\n",
      "Epoch 5/5\n",
      "137/137 [==============================] - 39s 286ms/step - loss: 8412.1885 - mean_squared_error: 8412.1885\n",
      "137/137 [==============================] - 8s 55ms/step\n",
      "16/16 [==============================] - 1s 50ms/step\n",
      "[100, 100] window_size=100 train_score: 7400003.486133616\n",
      "[100, 100] window_size=100 val_score: 6680139.031795662\n",
      "training:[500, 500] window_size=500\n",
      "Epoch 1/5\n",
      "125/125 [==============================] - 1233s 10s/step - loss: 13366.9990 - mean_squared_error: 13366.9990\n",
      "Epoch 2/5\n",
      "125/125 [==============================] - 1247s 10s/step - loss: 4773.4087 - mean_squared_error: 4773.4087\n",
      "Epoch 3/5\n",
      "125/125 [==============================] - 1282s 10s/step - loss: 2297.0530 - mean_squared_error: 2297.0530\n",
      "Epoch 4/5\n",
      "125/125 [==============================] - 1294s 10s/step - loss: 1373.3408 - mean_squared_error: 1373.3408\n",
      "Epoch 5/5\n",
      "125/125 [==============================] - 1315s 11s/step - loss: 794.0954 - mean_squared_error: 794.0954\n",
      "125/125 [==============================] - 289s 2s/step\n",
      "16/16 [==============================] - 36s 2s/step\n",
      "[500, 500] window_size=500 train_score: 31089395.56183333\n",
      "[500, 500] window_size=500 val_score: 45490027.22335226\n",
      "training:[1000, 1000] window_size=1000\n",
      "Epoch 1/5\n",
      "109/109 [==============================] - 5945s 55s/step - loss: 10644.6318 - mean_squared_error: 10644.6318\n",
      "Epoch 2/5\n",
      "109/109 [==============================] - 7124s 65s/step - loss: 2822.6350 - mean_squared_error: 2822.6350\n",
      "Epoch 3/5\n",
      "109/109 [==============================] - 8511s 78s/step - loss: 1676.0441 - mean_squared_error: 1676.0441\n",
      "Epoch 4/5\n",
      "109/109 [==============================] - 7927s 73s/step - loss: 849.6308 - mean_squared_error: 849.6308\n",
      "Epoch 5/5\n",
      " 99/109 [==========================>...] - ETA: 12:10 - loss: 328.8280 - mean_squared_error: 328.8280"
     ]
    }
   ],
   "source": [
    "res_try_raw_d_0 = auto_LSTM(train_tune, train_valid, LSTM_tries + [[500,500],[1000,1000]],only_val=False,raw=True)"
   ]
  },
  {
   "cell_type": "code",
   "execution_count": 394,
   "id": "92982542",
   "metadata": {},
   "outputs": [],
   "source": [
    "#Item 3\n",
    "\n",
    "def windowing(series, window):\n",
    "    X, Y = list(), list()\n",
    "    for i in range(len(series)):\n",
    "        take_rng = i + window\n",
    "        if take_rng > len(series) - 1:\n",
    "            break\n",
    "        x, y = series[i:take_rng], series[take_rng]\n",
    "        X.append(x)\n",
    "        Y.append(y)\n",
    "\n",
    "    return np.array(X), np.array(Y)\n",
    "\n",
    "def standardize(series,mean=None,sd=None):\n",
    "    if (mean == None) and (sd == None):\n",
    "        mean = np.mean(series)\n",
    "        sd = (np.var(series))**0.5\n",
    "        return (series - mean)/sd,mean,sd\n",
    "\n",
    "    else:\n",
    "        return (series - mean)/sd,mean,sd\n",
    "\n",
    "\n",
    "def auto_LSTM(train_tune_df, train_valid_df,\n",
    "             LSTM_setup = LSTM_tries, epochs_size = 5, h = 1, d = None,\\\n",
    "             only_val=True,drop_rate = None,raw = False):\n",
    "\n",
    "    if d == None:\n",
    "        \n",
    "        res_dict = dict()\n",
    "        \n",
    "        for LSTM_setup_comb in LSTM_setup:\n",
    "            \n",
    "            num_neurons = LSTM_setup_comb[0]\n",
    "            window = LSTM_setup_comb[1]\n",
    "            \n",
    "            train, train_mu, train_sigma = standardize(train_tune_df.reset_index()['Close'])\n",
    "            val, _ , _ = standardize(train_valid_df.reset_index()['Close'], mean = train_mu, sd = train_sigma)\n",
    "\n",
    "            X, Y = windowing(train, window)\n",
    "\n",
    "            use_val = np.array(list(train)[-window:] + list(val))\n",
    "            X_val, Y_val = windowing(use_val, window)\n",
    "\n",
    "            x_raw_train, y_raw_train = windowing(train_tune_df.reset_index()['Close'],window)\n",
    "\n",
    "            use_raw = np.array(list(train_tune_df.reset_index()['Close'])[-window:] + list(train_valid_df.reset_index()['Close']))\n",
    "            x_raw_val, y_raw_val = windowing(use_raw,window)\n",
    "            \n",
    "            curr_model = keras.Sequential()\n",
    "            \n",
    "            curr_model.add(layers.LSTM(num_neurons, input_shape=(window, h),return_sequences=False))\n",
    "            \n",
    "            if drop_rate != None:\n",
    "                curr_model.add(Dropout(drop_rate))\n",
    "\n",
    "            curr_model.add(layers.Dense(1))\n",
    "            curr_model.compile(optimizer='adam', loss='mse', metrics=['mean_squared_error'])\n",
    "            print(\"training:\" + str(LSTM_setup_comb) + ' window_size=' + str(window))\n",
    "            \n",
    "            if raw == True:\n",
    "                X, Y = x_raw_train,y_raw_train\n",
    "                X_val, Y_val = x_raw_val,y_raw_val\n",
    "            \n",
    "            curr_model.fit(X, Y, epochs=epochs_size)\n",
    "\n",
    "            train_pred = np.array([i[0] for i in (curr_model.predict(X) * train_sigma) + train_mu])\n",
    "            train_score = np.mean((train_pred - y_raw_train)**2)\n",
    "            train_MAPE = np.mean(abs(np.array(train_pred - y_raw_train))/abs(np.array(y_raw_train)))*100\n",
    "\n",
    "            val_pred = np.array([i[0] for i in (curr_model.predict(X_val) * train_sigma) + train_mu])\n",
    "            val_score = np.mean((val_pred - y_raw_val)**2)\n",
    "            val_MAPE = np.mean(abs(np.array(val_pred - y_raw_val))/abs(np.array(y_raw_val)))*100\n",
    "\n",
    "            if only_val == True:\n",
    "                res_dict[str(LSTM_setup_comb) + ' window_size=' + str(window)] = val_score\n",
    "            if only_val == False:\n",
    "                res_dict[str(LSTM_setup_comb) + ' window_size=' + str(window)] = [val_score,train_score,val_MAPE,train_MAPE]\n",
    "\n",
    "            print(str(LSTM_setup_comb) + ' window_size=' + str(window) + \" train_score: \" + str(train_score))\n",
    "            print(str(LSTM_setup_comb) + ' window_size=' + str(window) + \" val_score: \" + str(val_score))\n",
    "            curr_model = None\n",
    "                \n",
    "    if d == 'diff_1':\n",
    "            \n",
    "        res_dict = dict()\n",
    "\n",
    "        for LSTM_setup_comb in LSTM_setup:\n",
    "            \n",
    "            num_neurons = LSTM_setup_comb[0]\n",
    "            window = LSTM_setup_comb[1]\n",
    "            \n",
    "            use_data = list(np.diff(list(train_tune_df.reset_index()['Close']) + list(train_valid_df.reset_index()['Close'])))\n",
    "            X, Y = windowing(use_data[:(len(train_tune_df.reset_index()['Close'])-1)], window)\n",
    "\n",
    "            use_val = use_data[-(len(train_valid_df.reset_index()['Close']) + window):]\n",
    "            X_val, Y_val = windowing(use_val, window)\n",
    "\n",
    "            x_raw_train, y_raw_train = windowing(train_tune_df.reset_index()['Close'],window)\n",
    "\n",
    "            use_raw = np.array(list(train_tune_df.reset_index()['Close'])[-window:] + list(train_valid_df.reset_index()['Close']))\n",
    "            x_raw_val, y_raw_val = windowing(use_raw,window)\n",
    "            \n",
    "            curr_model = keras.Sequential()\n",
    "            \n",
    "            curr_model.add(layers.LSTM(num_neurons, input_shape=(window, h),return_sequences=False))\n",
    "            \n",
    "            if drop_rate != None:\n",
    "                curr_model.add(Dropout(drop_rate))\n",
    "            \n",
    "            curr_model.add(layers.Dense(1))\n",
    "            curr_model.compile(optimizer='adam', loss='mse', metrics=['mean_squared_error'])\n",
    "            print(\"training:\" + str(LSTM_setup_comb) + ' window_size=' + str(window))\n",
    "            \n",
    "            if raw == True:\n",
    "                X, Y = x_raw_train,y_raw_train\n",
    "                X_val, Y_val = x_raw_val,y_raw_val\n",
    "                \n",
    "            \n",
    "            curr_model.fit(X, Y, epochs=epochs_size)                \n",
    "\n",
    "            train_pred = np.array([i[0] for i in curr_model.predict(X)] + np.array(train_tune_df.reset_index()['Close'][window:-1]))\n",
    "            train_score = np.mean((train_pred - y_raw_train[1:])**2)\n",
    "            train_MAPE = np.mean(abs(np.array(train_pred - y_raw_train[1:]))/abs(np.array(y_raw_train[1:])))*100\n",
    "\n",
    "            val_pred = np.array([i[0] for i in (curr_model.predict(X_val))] + np.array([list(train_tune_df.reset_index()['Close'])[-1]] + list(train_valid_df.reset_index()['Close'])[:-1]))\n",
    "            val_score = np.mean((val_pred - y_raw_val)**2)\n",
    "            val_MAPE = np.mean(abs(np.array(val_pred - y_raw_val))/abs(np.array(y_raw_val)))*100\n",
    "\n",
    "            if only_val == True:\n",
    "                res_dict[str(LSTM_setup_comb) + ' window_size=' + str(window)] = val_score\n",
    "            if only_val == False:\n",
    "                res_dict[str(LSTM_setup_comb) + ' window_size=' + str(window)] = [val_score,train_score,val_MAPE,train_MAPE]\n",
    "\n",
    "            print(str(LSTM_setup_comb) + ' window_size=' + str(window) + \" train_score: \" + str(train_score))\n",
    "            print(str(LSTM_setup_comb) + ' window_size=' + str(window) + \" val_score: \" + str(val_score))\n",
    "            curr_model = None\n",
    "            \n",
    "    if d == 'ln_lag_1':\n",
    "            \n",
    "        res_dict = dict()\n",
    "\n",
    "        for LSTM_setup_comb in LSTM_setup:\n",
    "            \n",
    "            num_neurons = LSTM_setup_comb[0]\n",
    "            window = LSTM_setup_comb[1]\n",
    "            \n",
    "            use_data = list(np.diff(list(train_tune_df.reset_index()['Close']) + list(train_valid_df.reset_index()['Close'])))\n",
    "            X, Y = windowing(use_data[:(len(train_tune_df.reset_index()['Close'])-1)], window)\n",
    "\n",
    "            use_val = use_data[-(len(train_valid_df.reset_index()['Close']) + window):]\n",
    "            X_val, Y_val = windowing(use_val, window)\n",
    "\n",
    "            x_raw_train, y_raw_train = windowing(train_tune_df.reset_index()['Close'],window)\n",
    "\n",
    "            use_raw = np.array(list(train_tune_df.reset_index()['Close'])[-window:] + list(train_valid_df.reset_index()['Close']))\n",
    "            x_raw_val, y_raw_val = windowing(use_raw,window)\n",
    "            \n",
    "            curr_model = keras.Sequential()\n",
    "            \n",
    "            curr_model.add(layers.LSTM(num_neurons, input_shape=(window, h),return_sequences=False))\n",
    "            \n",
    "            if drop_rate != None:\n",
    "                curr_model.add(Dropout(drop_rate))\n",
    "            \n",
    "            curr_model.add(layers.Dense(1))\n",
    "            curr_model.compile(optimizer='adam', loss='mse', metrics=['mean_squared_error'])\n",
    "            print(\"training:\" + str(LSTM_setup_comb) + ' window_size=' + str(window))\n",
    "            \n",
    "            if raw == True:\n",
    "                X, Y = x_raw_train,y_raw_train\n",
    "                X_val, Y_val = x_raw_val,y_raw_val\n",
    "                \n",
    "            \n",
    "            curr_model.fit(X, Y, epochs=epochs_size)                \n",
    "\n",
    "            train_pred = np.array([np.exp(i[0]) for i in curr_model.predict(X)])*np.array(train_tune_df.reset_index()['Close'][window:-1])\n",
    "            train_score = np.mean((train_pred - y_raw_train[1:])**2)\n",
    "            train_MAPE = np.mean(abs(np.array(train_pred - y_raw_train[1:]))/abs(np.array(y_raw_train[1:])))*100\n",
    "\n",
    "            val_pred = np.array([np.exp(i[0]) for i in (curr_model.predict(X_val))])*np.array([list(train_tune_df.reset_index()['Close'])[-1]] + list(train_valid_df.reset_index()['Close'])[:-1])\n",
    "            val_score = np.mean((val_pred - y_raw_val)**2)\n",
    "            val_MAPE = np.mean(abs(np.array(val_pred - y_raw_val))/abs(np.array(y_raw_val)))*100\n",
    "\n",
    "            if only_val == True:\n",
    "                res_dict[str(LSTM_setup_comb) + ' window_size=' + str(window)] = val_score\n",
    "            if only_val == False:\n",
    "                res_dict[str(LSTM_setup_comb) + ' window_size=' + str(window)] = [val_score,train_score,val_MAPE,train_MAPE]\n",
    "\n",
    "            print(str(LSTM_setup_comb) + ' window_size=' + str(window) + \" train_score: \" + str(train_score))\n",
    "            print(str(LSTM_setup_comb) + ' window_size=' + str(window) + \" val_score: \" + str(val_score))\n",
    "            curr_model = None\n",
    "                \n",
    "    return [min(res_dict, key=res_dict.get),res_dict]"
   ]
  },
  {
   "cell_type": "code",
   "execution_count": 395,
   "id": "e3289b33",
   "metadata": {},
   "outputs": [
    {
     "name": "stdout",
     "output_type": "stream",
     "text": [
      "training:[5, 5] window_size=5\n",
      "Epoch 1/5\n",
      "140/140 [==============================] - 2s 5ms/step - loss: 2.2616 - mean_squared_error: 2.2616\n",
      "Epoch 2/5\n",
      "140/140 [==============================] - 1s 5ms/step - loss: 2.2509 - mean_squared_error: 2.2509\n",
      "Epoch 3/5\n",
      "140/140 [==============================] - 1s 5ms/step - loss: 2.2472 - mean_squared_error: 2.2472\n",
      "Epoch 4/5\n",
      "140/140 [==============================] - 1s 5ms/step - loss: 2.2452 - mean_squared_error: 2.2452\n",
      "Epoch 5/5\n",
      "140/140 [==============================] - 1s 5ms/step - loss: 2.2445 - mean_squared_error: 2.2445\n",
      "140/140 [==============================] - 1s 2ms/step\n",
      "16/16 [==============================] - 0s 3ms/step\n",
      "[5, 5] window_size=5 train_score: 198.77368379551478\n",
      "[5, 5] window_size=5 val_score: 1083.3372357005924\n",
      "training:[10, 10] window_size=10\n",
      "Epoch 1/5\n",
      "140/140 [==============================] - 2s 7ms/step - loss: 2.2634 - mean_squared_error: 2.2634\n",
      "Epoch 2/5\n",
      "140/140 [==============================] - 1s 7ms/step - loss: 2.2493 - mean_squared_error: 2.2493\n",
      "Epoch 3/5\n",
      "140/140 [==============================] - 1s 7ms/step - loss: 2.2456 - mean_squared_error: 2.2456\n",
      "Epoch 4/5\n",
      "140/140 [==============================] - 1s 7ms/step - loss: 2.2426 - mean_squared_error: 2.2426\n",
      "Epoch 5/5\n",
      "140/140 [==============================] - 1s 7ms/step - loss: 2.2419 - mean_squared_error: 2.2419\n",
      "140/140 [==============================] - 1s 3ms/step\n",
      "16/16 [==============================] - 0s 3ms/step\n",
      "[10, 10] window_size=10 train_score: 239.9571612354418\n",
      "[10, 10] window_size=10 val_score: 2128.1760939099863\n",
      "training:[25, 25] window_size=25\n",
      "Epoch 1/5\n",
      "140/140 [==============================] - 3s 14ms/step - loss: 2.2495 - mean_squared_error: 2.2495\n",
      "Epoch 2/5\n",
      "140/140 [==============================] - 2s 14ms/step - loss: 2.2369 - mean_squared_error: 2.2369\n",
      "Epoch 3/5\n",
      "140/140 [==============================] - 2s 15ms/step - loss: 2.2319 - mean_squared_error: 2.2319\n",
      "Epoch 4/5\n",
      "140/140 [==============================] - 2s 14ms/step - loss: 2.2366 - mean_squared_error: 2.2366\n",
      "Epoch 5/5\n",
      "140/140 [==============================] - 2s 14ms/step - loss: 2.2314 - mean_squared_error: 2.2314\n",
      "140/140 [==============================] - 1s 4ms/step\n",
      "16/16 [==============================] - 0s 5ms/step\n",
      "[25, 25] window_size=25 train_score: 627.5397113919039\n",
      "[25, 25] window_size=25 val_score: 9702.362947705558\n",
      "training:[50, 50] window_size=50\n",
      "Epoch 1/5\n",
      "139/139 [==============================] - 6s 34ms/step - loss: 2.2317 - mean_squared_error: 2.2317\n",
      "Epoch 2/5\n",
      "139/139 [==============================] - 5s 35ms/step - loss: 2.2274 - mean_squared_error: 2.2274\n",
      "Epoch 3/5\n",
      "139/139 [==============================] - 5s 34ms/step - loss: 2.2229 - mean_squared_error: 2.2229\n",
      "Epoch 4/5\n",
      "139/139 [==============================] - 5s 34ms/step - loss: 2.2232 - mean_squared_error: 2.2232\n",
      "Epoch 5/5\n",
      "139/139 [==============================] - 5s 35ms/step - loss: 2.2239 - mean_squared_error: 2.2239\n",
      "139/139 [==============================] - 2s 13ms/step\n",
      "16/16 [==============================] - 0s 12ms/step\n",
      "[50, 50] window_size=50 train_score: 526.8131238968538\n",
      "[50, 50] window_size=50 val_score: 8868.661071620518\n",
      "training:[100, 100] window_size=100\n",
      "Epoch 1/5\n",
      "137/137 [==============================] - 47s 326ms/step - loss: 2.1834 - mean_squared_error: 2.1834\n",
      "Epoch 2/5\n",
      "137/137 [==============================] - 47s 342ms/step - loss: 2.1784 - mean_squared_error: 2.1784\n",
      "Epoch 3/5\n",
      "137/137 [==============================] - 47s 342ms/step - loss: 2.1762 - mean_squared_error: 2.1762\n",
      "Epoch 4/5\n",
      "137/137 [==============================] - 45s 331ms/step - loss: 2.1765 - mean_squared_error: 2.1765\n",
      "Epoch 5/5\n",
      "137/137 [==============================] - 45s 331ms/step - loss: 2.1712 - mean_squared_error: 2.1712\n",
      "137/137 [==============================] - 8s 58ms/step\n",
      "16/16 [==============================] - 1s 52ms/step\n",
      "[100, 100] window_size=100 train_score: 593.0161005523065\n",
      "[100, 100] window_size=100 val_score: 8511.627810175025\n"
     ]
    }
   ],
   "source": [
    "res_try_d_ln_1 = auto_LSTM(train_tune, train_valid, d = 'ln_lag_1', only_val=False)"
   ]
  },
  {
   "cell_type": "code",
   "execution_count": 287,
   "id": "3764bffa",
   "metadata": {
    "scrolled": true
   },
   "outputs": [
    {
     "name": "stdout",
     "output_type": "stream",
     "text": [
      "training:[5, 5] window_size=5\n",
      "Epoch 1/5\n",
      "140/140 [==============================] - 2s 5ms/step - loss: 0.2302 - mean_squared_error: 0.2302\n",
      "Epoch 2/5\n",
      "140/140 [==============================] - 1s 4ms/step - loss: 0.0377 - mean_squared_error: 0.0377\n",
      "Epoch 3/5\n",
      "140/140 [==============================] - 1s 5ms/step - loss: 0.0268 - mean_squared_error: 0.0268\n",
      "Epoch 4/5\n",
      "140/140 [==============================] - 1s 5ms/step - loss: 0.0197 - mean_squared_error: 0.0197\n",
      "Epoch 5/5\n",
      "140/140 [==============================] - 1s 4ms/step - loss: 0.0145 - mean_squared_error: 0.0145\n",
      "140/140 [==============================] - 1s 2ms/step\n",
      "16/16 [==============================] - 0s 3ms/step\n",
      "[5, 5] window_size=5 train_score: 21.052281752335123\n",
      "[5, 5] window_size=5 val_score: 1906.6126569022563\n",
      "training:[10, 10] window_size=10\n",
      "Epoch 1/5\n",
      "140/140 [==============================] - 4s 10ms/step - loss: 0.1572 - mean_squared_error: 0.1572\n",
      "Epoch 2/5\n",
      "140/140 [==============================] - 1s 7ms/step - loss: 0.0211 - mean_squared_error: 0.0211\n",
      "Epoch 3/5\n",
      "140/140 [==============================] - 1s 7ms/step - loss: 0.0089 - mean_squared_error: 0.0089\n",
      "Epoch 4/5\n",
      "140/140 [==============================] - 1s 6ms/step - loss: 0.0048 - mean_squared_error: 0.0048\n",
      "Epoch 5/5\n",
      "140/140 [==============================] - 1s 6ms/step - loss: 0.0040 - mean_squared_error: 0.0040\n",
      "140/140 [==============================] - 1s 3ms/step\n",
      "16/16 [==============================] - 0s 3ms/step\n",
      "[10, 10] window_size=10 train_score: 6.5723617566067505\n",
      "[10, 10] window_size=10 val_score: 482.41379567058107\n",
      "training:[25, 25] window_size=25\n",
      "Epoch 1/5\n",
      "140/140 [==============================] - 3s 13ms/step - loss: 0.2369 - mean_squared_error: 0.2369\n",
      "Epoch 2/5\n",
      "140/140 [==============================] - 2s 13ms/step - loss: 0.0084 - mean_squared_error: 0.0084\n",
      "Epoch 3/5\n",
      "140/140 [==============================] - 2s 13ms/step - loss: 0.0049 - mean_squared_error: 0.0049\n",
      "Epoch 4/5\n",
      "140/140 [==============================] - 2s 12ms/step - loss: 0.0044 - mean_squared_error: 0.0044\n",
      "Epoch 5/5\n",
      "140/140 [==============================] - 2s 12ms/step - loss: 0.0041 - mean_squared_error: 0.0041\n",
      "140/140 [==============================] - 1s 4ms/step\n",
      "16/16 [==============================] - 0s 4ms/step\n",
      "[25, 25] window_size=25 train_score: 7.8509654017816315\n",
      "[25, 25] window_size=25 val_score: 318.2568365330768\n",
      "training:[50, 50] window_size=50\n",
      "Epoch 1/5\n",
      "139/139 [==============================] - 6s 30ms/step - loss: 0.1012 - mean_squared_error: 0.1012\n",
      "Epoch 2/5\n",
      "139/139 [==============================] - 4s 31ms/step - loss: 0.0047 - mean_squared_error: 0.0047\n",
      "Epoch 3/5\n",
      "139/139 [==============================] - 4s 32ms/step - loss: 0.0042 - mean_squared_error: 0.0042\n",
      "Epoch 4/5\n",
      "139/139 [==============================] - 5s 39ms/step - loss: 0.0040 - mean_squared_error: 0.0040\n",
      "Epoch 5/5\n",
      "139/139 [==============================] - 5s 35ms/step - loss: 0.0037 - mean_squared_error: 0.0037\n",
      "139/139 [==============================] - 2s 12ms/step\n",
      "16/16 [==============================] - 0s 10ms/step\n",
      "[50, 50] window_size=50 train_score: 6.062222048637196\n",
      "[50, 50] window_size=50 val_score: 88.29106811716413\n",
      "training:[100, 100] window_size=100\n",
      "Epoch 1/5\n",
      "137/137 [==============================] - 42s 294ms/step - loss: 0.0682 - mean_squared_error: 0.0682\n",
      "Epoch 2/5\n",
      "137/137 [==============================] - 41s 298ms/step - loss: 0.0043 - mean_squared_error: 0.0043\n",
      "Epoch 3/5\n",
      "137/137 [==============================] - 42s 305ms/step - loss: 0.0040 - mean_squared_error: 0.0040\n",
      "Epoch 4/5\n",
      "137/137 [==============================] - 38s 280ms/step - loss: 0.0038 - mean_squared_error: 0.0038\n",
      "Epoch 5/5\n",
      "137/137 [==============================] - 38s 280ms/step - loss: 0.0036 - mean_squared_error: 0.0036\n",
      "137/137 [==============================] - 8s 52ms/step\n",
      "16/16 [==============================] - 1s 48ms/step\n",
      "[100, 100] window_size=100 train_score: 5.672396587442825\n",
      "[100, 100] window_size=100 val_score: 40.18188379465511\n"
     ]
    }
   ],
   "source": [
    "res_try_d_0 = auto_LSTM(train_tune, train_valid, only_val=False)"
   ]
  },
  {
   "cell_type": "code",
   "execution_count": 288,
   "id": "095bf133",
   "metadata": {
    "scrolled": true
   },
   "outputs": [
    {
     "name": "stdout",
     "output_type": "stream",
     "text": [
      "training:[5, 5] window_size=5\n",
      "Epoch 1/5\n",
      "140/140 [==============================] - 3s 5ms/step - loss: 2.2569 - mean_squared_error: 2.2569\n",
      "Epoch 2/5\n",
      "140/140 [==============================] - 1s 4ms/step - loss: 2.2499 - mean_squared_error: 2.2499\n",
      "Epoch 3/5\n",
      "140/140 [==============================] - 1s 4ms/step - loss: 2.2476 - mean_squared_error: 2.2476\n",
      "Epoch 4/5\n",
      "140/140 [==============================] - 1s 4ms/step - loss: 2.2465 - mean_squared_error: 2.2465\n",
      "Epoch 5/5\n",
      "140/140 [==============================] - 1s 4ms/step - loss: 2.2466 - mean_squared_error: 2.2466\n",
      "140/140 [==============================] - 1s 2ms/step\n",
      "16/16 [==============================] - 0s 2ms/step\n",
      "[5, 5] window_size=5 train_score: 2.2445440116575623\n",
      "[5, 5] window_size=5 val_score: 6.676263524868499\n",
      "training:[10, 10] window_size=10\n",
      "Epoch 1/5\n",
      "140/140 [==============================] - 3s 7ms/step - loss: 2.2736 - mean_squared_error: 2.2736\n",
      "Epoch 2/5\n",
      "140/140 [==============================] - 1s 6ms/step - loss: 2.2539 - mean_squared_error: 2.2539\n",
      "Epoch 3/5\n",
      "140/140 [==============================] - 1s 6ms/step - loss: 2.2486 - mean_squared_error: 2.2486\n",
      "Epoch 4/5\n",
      "140/140 [==============================] - 1s 6ms/step - loss: 2.2453 - mean_squared_error: 2.2453\n",
      "Epoch 5/5\n",
      "140/140 [==============================] - 1s 7ms/step - loss: 2.2441 - mean_squared_error: 2.2441\n",
      "140/140 [==============================] - 1s 3ms/step\n",
      "16/16 [==============================] - 0s 3ms/step\n",
      "[10, 10] window_size=10 train_score: 2.2414191095897498\n",
      "[10, 10] window_size=10 val_score: 6.701396541601328\n",
      "training:[25, 25] window_size=25\n",
      "Epoch 1/5\n",
      "140/140 [==============================] - 3s 13ms/step - loss: 2.2494 - mean_squared_error: 2.2494\n",
      "Epoch 2/5\n",
      "140/140 [==============================] - 2s 13ms/step - loss: 2.2384 - mean_squared_error: 2.2384\n",
      "Epoch 3/5\n",
      "140/140 [==============================] - 2s 13ms/step - loss: 2.2365 - mean_squared_error: 2.2365\n",
      "Epoch 4/5\n",
      "140/140 [==============================] - 2s 13ms/step - loss: 2.2349 - mean_squared_error: 2.2349\n",
      "Epoch 5/5\n",
      "140/140 [==============================] - 2s 14ms/step - loss: 2.2351 - mean_squared_error: 2.2351\n",
      "140/140 [==============================] - 1s 4ms/step\n",
      "16/16 [==============================] - 0s 5ms/step\n",
      "[25, 25] window_size=25 train_score: 2.2288205977540594\n",
      "[25, 25] window_size=25 val_score: 6.676375104742661\n",
      "training:[50, 50] window_size=50\n",
      "Epoch 1/5\n",
      "139/139 [==============================] - 6s 35ms/step - loss: 2.2320 - mean_squared_error: 2.2320\n",
      "Epoch 2/5\n",
      "139/139 [==============================] - 5s 33ms/step - loss: 2.2278 - mean_squared_error: 2.2278\n",
      "Epoch 3/5\n",
      "139/139 [==============================] - 5s 33ms/step - loss: 2.2280 - mean_squared_error: 2.2280\n",
      "Epoch 4/5\n",
      "139/139 [==============================] - 5s 33ms/step - loss: 2.2252 - mean_squared_error: 2.2252\n",
      "Epoch 5/5\n",
      "139/139 [==============================] - 5s 33ms/step - loss: 2.2238 - mean_squared_error: 2.2238\n",
      "139/139 [==============================] - 2s 11ms/step\n",
      "16/16 [==============================] - 0s 11ms/step\n",
      "[50, 50] window_size=50 train_score: 2.216104882346327\n",
      "[50, 50] window_size=50 val_score: 6.664451191950661\n",
      "training:[100, 100] window_size=100\n",
      "Epoch 1/5\n",
      "137/137 [==============================] - 39s 270ms/step - loss: 2.1858 - mean_squared_error: 2.1858\n",
      "Epoch 2/5\n",
      "137/137 [==============================] - 38s 278ms/step - loss: 2.1795 - mean_squared_error: 2.1795\n",
      "Epoch 3/5\n",
      "137/137 [==============================] - 40s 294ms/step - loss: 2.1747 - mean_squared_error: 2.1747\n",
      "Epoch 4/5\n",
      "137/137 [==============================] - 38s 274ms/step - loss: 2.1759 - mean_squared_error: 2.1759\n",
      "Epoch 5/5\n",
      "137/137 [==============================] - 40s 293ms/step - loss: 2.1746 - mean_squared_error: 2.1746\n",
      "137/137 [==============================] - 8s 53ms/step\n",
      "16/16 [==============================] - 1s 54ms/step\n",
      "[100, 100] window_size=100 train_score: 2.1664009680810365\n",
      "[100, 100] window_size=100 val_score: 6.669630185076927\n"
     ]
    }
   ],
   "source": [
    "res_try_d_1 = auto_LSTM(train_tune, train_valid, d = 'diff_1', only_val=False)"
   ]
  },
  {
   "cell_type": "code",
   "execution_count": 365,
   "id": "041aa7e2",
   "metadata": {},
   "outputs": [
    {
     "data": {
      "text/plain": [
       "['[5, 5] window_size=5',\n",
       " '[10, 10] window_size=10',\n",
       " '[25, 25] window_size=25',\n",
       " '[50, 50] window_size=50',\n",
       " '[100, 100] window_size=100']"
      ]
     },
     "execution_count": 365,
     "metadata": {},
     "output_type": "execute_result"
    }
   ],
   "source": [
    "list(res_try_d_0[1].keys())"
   ]
  },
  {
   "cell_type": "code",
   "execution_count": 295,
   "id": "4f9cbfdf",
   "metadata": {},
   "outputs": [
    {
     "name": "stderr",
     "output_type": "stream",
     "text": [
      "<ipython-input-295-b55cb00b62dd>:32: UserWarning: FixedFormatter should only be used together with FixedLocator\n",
      "  ax1.set_xticklabels(['[5, 5]','[10,10]','[25,25]','[50,50]','[100,100]'], rotation=45)\n"
     ]
    },
    {
     "data": {
      "image/png": "[encoded data removed]",
      "text/plain": [
       "<Figure size 432x288 with 2 Axes>"
      ]
     },
     "metadata": {
      "needs_background": "light"
     },
     "output_type": "display_data"
    }
   ],
   "source": [
    "# Figure 3\n",
    "\n",
    "from matplotlib.pyplot import text\n",
    "\n",
    "x = list(res_try_d_0[1].keys())\n",
    "y1 = [res_try_d_0[1][row][0] for row in list(res_try_d_0[1].keys())]\n",
    "y2 = np.array(y1)/np.array([res_try_d_0[1][row][1] for row in list(res_try_d_0[1].keys())])\n",
    "\n",
    "fig, ax1 = plt.subplots()\n",
    "\n",
    "ax2 = ax1.twinx()\n",
    "ax1.plot(x, y1,'g-',label='traversed')\n",
    "ax1.scatter(x[-1],y1[-1],color='r',label='lowest MSE',marker = 'v')\n",
    "ax2.bar(x, y2,fill=False,edgecolor='b')\n",
    "\n",
    "ax1.set_title('Optimal LSTM Setup')\n",
    "ax1.set_xlabel('LSTM Architecture')\n",
    "ax1.set_ylabel('Validation MSE',color='g')\n",
    "ax2.set_ylabel('Validation $\\div$ Training MSE',color='b')\n",
    "\n",
    "for x,y in zip(x,y2):\n",
    "\n",
    "    label = \"{:.2f}x\".format(y)\n",
    "\n",
    "    plt.annotate(label, # this is the text\n",
    "                 (x,y), # these are the coordinates to position the label\n",
    "                 textcoords=\"offset points\", # how to position the text\n",
    "                 xytext=(0,10), # distance from text to points (x,y)\n",
    "                 ha='center',\n",
    "                 color='b')\n",
    "\n",
    "ax1.set_xticklabels(['[5, 5]','[10,10]','[25,25]','[50,50]','[100,100]'], rotation=45)\n",
    "ax1.legend()\n",
    "ax2.set_ylim([0,100])\n",
    "\n",
    "plt.show()"
   ]
  },
  {
   "cell_type": "code",
   "execution_count": 1038,
   "id": "8678dc6c",
   "metadata": {
    "scrolled": false
   },
   "outputs": [
    {
     "name": "stderr",
     "output_type": "stream",
     "text": [
      "C:\\Users\\13127\\anaconda3\\lib\\site-packages\\seaborn\\distributions.py:2551: FutureWarning: `distplot` is a deprecated function and will be removed in a future version. Please adapt your code to use either `displot` (a figure-level function with similar flexibility) or `kdeplot` (an axes-level function for kernel density plots).\n",
      "  warnings.warn(msg, FutureWarning)\n",
      "C:\\Users\\13127\\anaconda3\\lib\\site-packages\\seaborn\\distributions.py:2551: FutureWarning: `distplot` is a deprecated function and will be removed in a future version. Please adapt your code to use either `displot` (a figure-level function with similar flexibility) or `kdeplot` (an axes-level function for kernel density plots).\n",
      "  warnings.warn(msg, FutureWarning)\n"
     ]
    },
    {
     "data": {
      "text/plain": [
       "<matplotlib.legend.Legend at 0x28ea7fdc130>"
      ]
     },
     "execution_count": 1038,
     "metadata": {},
     "output_type": "execute_result"
    },
    {
     "data": {
      "image/png": "[encoded data removed]",
      "text/plain": [
       "<Figure size 432x288 with 1 Axes>"
      ]
     },
     "metadata": {
      "needs_background": "light"
     },
     "output_type": "display_data"
    }
   ],
   "source": [
    "# Figure 4\n",
    "import seaborn as sns\n",
    "\n",
    "sns.distplot(train_tune['Close'], hist = False, kde = True,\n",
    "                 kde_kws = {'shade': True, 'linewidth': 0}, \n",
    "                  label = 'Training')\n",
    "\n",
    "sns.distplot(train_valid['Close'], hist = False, kde = True,\n",
    "                 kde_kws = {'shade': True, 'linewidth': 0}, \n",
    "                  label = 'Validation')\n",
    "\n",
    "plt.title('Distribution of Training and Validation')\n",
    "plt.xlabel('SPY Close')\n",
    "plt.legend(loc='upper left')"
   ]
  },
  {
   "cell_type": "code",
   "execution_count": 299,
   "id": "44f4fa2c",
   "metadata": {},
   "outputs": [
    {
     "name": "stderr",
     "output_type": "stream",
     "text": [
      "<ipython-input-299-a73aa0b21b6b>:32: UserWarning: FixedFormatter should only be used together with FixedLocator\n",
      "  ax1.set_xticklabels(['[5, 5]','[10,10]','[25,25]','[50,50]','[100,100]'], rotation=45)\n"
     ]
    },
    {
     "data": {
      "image/png": "[encoded data removed]",
      "text/plain": [
       "<Figure size 432x288 with 2 Axes>"
      ]
     },
     "metadata": {
      "needs_background": "light"
     },
     "output_type": "display_data"
    }
   ],
   "source": [
    "# Figure 5\n",
    "\n",
    "from matplotlib.pyplot import text\n",
    "\n",
    "x = list(res_try_d_1[1].keys())\n",
    "y1 = [res_try_d_1[1][row][0] for row in list(res_try_d_1[1].keys())]\n",
    "y2 = np.array(y1)/np.array([res_try_d_1[1][row][1] for row in list(res_try_d_1[1].keys())])\n",
    "\n",
    "fig, ax1 = plt.subplots()\n",
    "\n",
    "ax2 = ax1.twinx()\n",
    "ax1.plot(x, y1,'g-',label='traversed')\n",
    "ax1.scatter(x[-2],y1[-2],color='r',label='lowest MSE',marker = 'v')\n",
    "ax2.bar(x, y2,fill=False,edgecolor='b')\n",
    "\n",
    "ax1.set_title('Optimal LSTM Setup, with differencing')\n",
    "ax1.set_xlabel('LSTM Architecture')\n",
    "ax1.set_ylabel('Validation MSE',color='g')\n",
    "ax2.set_ylabel('Validation $\\div$ Training MSE',color='b')\n",
    "\n",
    "for x,y in zip(x,y2):\n",
    "\n",
    "    label = \"{:.2f}x\".format(y)\n",
    "\n",
    "    plt.annotate(label, # this is the text\n",
    "                 (x,y), # these are the coordinates to position the label\n",
    "                 textcoords=\"offset points\", # how to position the text\n",
    "                 xytext=(0,10), # distance from text to points (x,y)\n",
    "                 ha='center',\n",
    "                 color='b')\n",
    "\n",
    "ax1.set_xticklabels(['[5, 5]','[10,10]','[25,25]','[50,50]','[100,100]'], rotation=45)\n",
    "ax1.legend()\n",
    "ax2.set_ylim([0,5])\n",
    "\n",
    "plt.show()"
   ]
  },
  {
   "cell_type": "code",
   "execution_count": 308,
   "id": "cc16460c",
   "metadata": {
    "scrolled": true
   },
   "outputs": [
    {
     "name": "stderr",
     "output_type": "stream",
     "text": [
      "<ipython-input-308-8600061a61f5>:20: UserWarning: FixedFormatter should only be used together with FixedLocator\n",
      "  ax1.set_xticklabels(['[5, 5]','[10,10]','[25,25]','[50,50]','[100,100]'], rotation=45)\n"
     ]
    },
    {
     "data": {
      "image/png": "[encoded data removed]",
      "text/plain": [
       "<Figure size 432x288 with 2 Axes>"
      ]
     },
     "metadata": {
      "needs_background": "light"
     },
     "output_type": "display_data"
    }
   ],
   "source": [
    "# Figure 6\n",
    "\n",
    "from matplotlib.pyplot import text\n",
    "\n",
    "x = list(res_try_d_1[1].keys())\n",
    "y1 = [res_try_d_1[1][row][0] for row in list(res_try_d_1[1].keys())]\n",
    "y2 = [res_try_d_1[1][row][2] for row in list(res_try_d_1[1].keys())]\n",
    "\n",
    "fig, ax1 = plt.subplots()\n",
    "\n",
    "ax2 = ax1.twinx()\n",
    "ax1.plot(x, y1,'g-')\n",
    "ax2.plot(x, y2,'b-')\n",
    "\n",
    "ax1.set_title('Optimal LSTM Setup, with differencing')\n",
    "ax1.set_xlabel('LSTM Architecture')\n",
    "ax1.set_ylabel('Validation MSE',color='g')\n",
    "ax2.set_ylabel('Validation MAPE (in %)',color='b')\n",
    "\n",
    "ax1.set_xticklabels(['[5, 5]','[10,10]','[25,25]','[50,50]','[100,100]'], rotation=45)\n",
    "\n",
    "plt.show()"
   ]
  },
  {
   "cell_type": "code",
   "execution_count": 86,
   "id": "28c6b23c",
   "metadata": {},
   "outputs": [
    {
     "name": "stderr",
     "output_type": "stream",
     "text": [
      "<ipython-input-86-ecf3254ce5ca>:20: UserWarning: FixedFormatter should only be used together with FixedLocator\n",
      "  ax1.set_xticklabels(['n=128,w=5','n=256,w=5','n=512,w=5','n=128,w=10','n=256,w=10','n=512,w=10'], rotation=45)\n"
     ]
    },
    {
     "data": {
      "image/png": "[encoded data removed]",
      "text/plain": [
       "<Figure size 432x288 with 2 Axes>"
      ]
     },
     "metadata": {
      "needs_background": "light"
     },
     "output_type": "display_data"
    }
   ],
   "source": [
    "# Figure 6\n",
    "\n",
    "from matplotlib.pyplot import text\n",
    "\n",
    "x = list(res_d_1_all[1].keys())\n",
    "y1 = [res_d_1_all[1][row][0] for row in list(res_d_1[1].keys())]\n",
    "y2 = [res_d_1_all[1][row][2] for row in list(res_d_1[1].keys())]\n",
    "\n",
    "fig, ax1 = plt.subplots()\n",
    "\n",
    "ax2 = ax1.twinx()\n",
    "ax1.plot(x, y1,'g-')\n",
    "ax2.plot(x, y2,'b-')\n",
    "\n",
    "ax1.set_title('Optimal LSTM Setup, with differencing')\n",
    "ax1.set_xlabel('LSTM Architecture')\n",
    "ax1.set_ylabel('Validation MSE',color='g')\n",
    "ax2.set_ylabel('Validation MAPE (in %)',color='b')\n",
    "\n",
    "ax1.set_xticklabels(['n=128,w=5','n=256,w=5','n=512,w=5','n=128,w=10','n=256,w=10','n=512,w=10'], rotation=45)\n",
    "\n",
    "ax1.scatter(x[2],y1[2],color='r',label='lowest MSE',marker = 'v')\n",
    "ax2.scatter(x[-1],y2[-1],color='r',label='lowest MAPE',marker = '^')\n",
    "\n",
    "ax1.legend()\n",
    "ax2.legend()\n",
    "plt.show()"
   ]
  },
  {
   "cell_type": "code",
   "execution_count": 321,
   "id": "e3bc272a",
   "metadata": {},
   "outputs": [
    {
     "name": "stdout",
     "output_type": "stream",
     "text": [
      "training:[100, 100] window_size=100\n",
      "Epoch 1/5\n",
      "137/137 [==============================] - 40s 274ms/step - loss: 2.1831 - mean_squared_error: 2.1831\n",
      "Epoch 2/5\n",
      "137/137 [==============================] - 40s 295ms/step - loss: 2.1762 - mean_squared_error: 2.1762\n",
      "Epoch 3/5\n",
      "137/137 [==============================] - 38s 278ms/step - loss: 2.1783 - mean_squared_error: 2.1783\n",
      "Epoch 4/5\n",
      "137/137 [==============================] - 36s 266ms/step - loss: 2.1738 - mean_squared_error: 2.1738\n",
      "Epoch 5/5\n",
      "137/137 [==============================] - 37s 269ms/step - loss: 2.1761 - mean_squared_error: 2.1761\n",
      "137/137 [==============================] - 8s 51ms/step\n",
      "16/16 [==============================] - 1s 52ms/step\n",
      "[100, 100] window_size=100 train_score: 2.1668925556065304\n",
      "[100, 100] window_size=100 val_score: 6.684067995665666\n",
      "training:[100, 100] window_size=100\n",
      "Epoch 1/5\n",
      "137/137 [==============================] - 40s 271ms/step - loss: 2.1841 - mean_squared_error: 2.1841\n",
      "Epoch 2/5\n",
      "137/137 [==============================] - 37s 272ms/step - loss: 2.1798 - mean_squared_error: 2.1798\n",
      "Epoch 3/5\n",
      "137/137 [==============================] - 37s 270ms/step - loss: 2.1758 - mean_squared_error: 2.1758\n",
      "Epoch 4/5\n",
      "137/137 [==============================] - 37s 269ms/step - loss: 2.1778 - mean_squared_error: 2.1778\n",
      "Epoch 5/5\n",
      "137/137 [==============================] - 36s 266ms/step - loss: 2.1792 - mean_squared_error: 2.1792\n",
      "137/137 [==============================] - 8s 53ms/step\n",
      "16/16 [==============================] - 1s 51ms/step\n",
      "[100, 100] window_size=100 train_score: 2.1669986634242036\n",
      "[100, 100] window_size=100 val_score: 6.653953968353538\n",
      "training:[100, 100] window_size=100\n",
      "Epoch 1/5\n",
      "137/137 [==============================] - 38s 261ms/step - loss: 2.1909 - mean_squared_error: 2.1909\n",
      "Epoch 2/5\n",
      "137/137 [==============================] - 39s 285ms/step - loss: 2.1758 - mean_squared_error: 2.1758\n",
      "Epoch 3/5\n",
      "137/137 [==============================] - 40s 290ms/step - loss: 2.1775 - mean_squared_error: 2.1775\n",
      "Epoch 4/5\n",
      "137/137 [==============================] - 40s 289ms/step - loss: 2.1721 - mean_squared_error: 2.1721\n",
      "Epoch 5/5\n",
      "137/137 [==============================] - 40s 289ms/step - loss: 2.1770 - mean_squared_error: 2.1770\n",
      "137/137 [==============================] - 7s 46ms/step\n",
      "16/16 [==============================] - 1s 43ms/step\n",
      "[100, 100] window_size=100 train_score: 2.1662630889305423\n",
      "[100, 100] window_size=100 val_score: 6.665079933723575\n",
      "training:[100, 100] window_size=100\n",
      "Epoch 1/5\n",
      "137/137 [==============================] - 41s 285ms/step - loss: 2.1786 - mean_squared_error: 2.1786\n",
      "Epoch 2/5\n",
      "137/137 [==============================] - 39s 282ms/step - loss: 2.1804 - mean_squared_error: 2.1804\n",
      "Epoch 3/5\n",
      "137/137 [==============================] - 39s 285ms/step - loss: 2.1784 - mean_squared_error: 2.1784\n",
      "Epoch 4/5\n",
      "137/137 [==============================] - 38s 280ms/step - loss: 2.1738 - mean_squared_error: 2.1738\n",
      "Epoch 5/5\n",
      "137/137 [==============================] - 39s 285ms/step - loss: 2.1783 - mean_squared_error: 2.1783\n",
      "137/137 [==============================] - 8s 53ms/step\n",
      "16/16 [==============================] - 1s 52ms/step\n",
      "[100, 100] window_size=100 train_score: 2.168057634413844\n",
      "[100, 100] window_size=100 val_score: 6.669595154830039\n",
      "training:[100, 100] window_size=100\n",
      "Epoch 1/5\n",
      "137/137 [==============================] - 39s 275ms/step - loss: 2.1915 - mean_squared_error: 2.1915\n",
      "Epoch 2/5\n",
      "137/137 [==============================] - 38s 279ms/step - loss: 2.1720 - mean_squared_error: 2.1720\n",
      "Epoch 3/5\n",
      "137/137 [==============================] - 38s 280ms/step - loss: 2.1754 - mean_squared_error: 2.1754\n",
      "Epoch 4/5\n",
      "137/137 [==============================] - 39s 286ms/step - loss: 2.1722 - mean_squared_error: 2.1722\n",
      "Epoch 5/5\n",
      "137/137 [==============================] - 40s 289ms/step - loss: 2.1773 - mean_squared_error: 2.1773\n",
      "137/137 [==============================] - 7s 46ms/step\n",
      "16/16 [==============================] - 1s 44ms/step\n",
      "[100, 100] window_size=100 train_score: 2.1676716059858876\n",
      "[100, 100] window_size=100 val_score: 6.67227156381508\n"
     ]
    }
   ],
   "source": [
    "res_check = []\n",
    "for i in np.linspace(0.1,0.5,5):\n",
    "    res_check.append(auto_LSTM(train_tune, train_valid,[[100,100]], d = 1,only_val=False,drop_rate=i))"
   ]
  },
  {
   "cell_type": "code",
   "execution_count": 398,
   "id": "8e8d095d",
   "metadata": {},
   "outputs": [
    {
     "name": "stderr",
     "output_type": "stream",
     "text": [
      "<ipython-input-398-0f27f2825ec7>:6: FutureWarning: The behavior of `series[i:j]` with an integer-dtype index is deprecated. In a future version, this will be treated as *label-based* indexing, consistent with e.g. `series[i]` lookups. To retain the old behavior, use `series.iloc[i:j]`. To get the future behavior, use `series.loc[i:j]`.\n",
      "  use_data = list(train['Close'][i:]) + list(test['Close'][0:i])\n"
     ]
    }
   ],
   "source": [
    "# Base final models ARMA\n",
    "arma_pred = []\n",
    "arma_miss = []\n",
    "\n",
    "for i in range(len(test)):\n",
    "    use_data = list(train['Close'][i:]) + list(test['Close'][0:i])\n",
    "    \n",
    "    curr_model = ARIMA(use_data, order=(2,1,0))\n",
    "    curr_model_fit = curr_model.fit()\n",
    "    \n",
    "    arma_pred.append(curr_model_fit.forecast())\n",
    "    arma_miss.append(curr_model_fit.forecast() - list(test['Close'])[i])"
   ]
  },
  {
   "cell_type": "code",
   "execution_count": 470,
   "id": "1d9ed540",
   "metadata": {
    "scrolled": true
   },
   "outputs": [
    {
     "name": "stderr",
     "output_type": "stream",
     "text": [
      "<ipython-input-470-6012ddefd26b>:1: FutureWarning: The behavior of `series[i:j]` with an integer-dtype index is deprecated. In a future version, this will be treated as *label-based* indexing, consistent with e.g. `series[i]` lookups. To retain the old behavior, use `series.iloc[i:j]`. To get the future behavior, use `series.loc[i:j]`.\n",
      "  plt.plot(test['Date'][-20:],test['Close'][-20:],label='True',alpha=0.25)\n",
      "<ipython-input-470-6012ddefd26b>:2: FutureWarning: The behavior of `series[i:j]` with an integer-dtype index is deprecated. In a future version, this will be treated as *label-based* indexing, consistent with e.g. `series[i]` lookups. To retain the old behavior, use `series.iloc[i:j]`. To get the future behavior, use `series.loc[i:j]`.\n",
      "  plt.plot(test['Date'][-20:],arma_pred[-20:],label='ARMA',linewidth=2)\n",
      "<ipython-input-470-6012ddefd26b>:3: FutureWarning: The behavior of `series[i:j]` with an integer-dtype index is deprecated. In a future version, this will be treated as *label-based* indexing, consistent with e.g. `series[i]` lookups. To retain the old behavior, use `series.iloc[i:j]`. To get the future behavior, use `series.loc[i:j]`.\n",
      "  plt.plot(test['Date'][-20:],LSTM_pred[-20:],label='LSTM',linewidth=2)\n"
     ]
    },
    {
     "data": {
      "text/plain": [
       "<matplotlib.legend.Legend at 0x2811d177c70>"
      ]
     },
     "execution_count": 470,
     "metadata": {},
     "output_type": "execute_result"
    },
    {
     "data": {
      "image/png": "[encoded data removed]",
      "text/plain": [
       "<Figure size 432x288 with 1 Axes>"
      ]
     },
     "metadata": {
      "needs_background": "light"
     },
     "output_type": "display_data"
    }
   ],
   "source": [
    "plt.plot(test['Date'][-20:],test['Close'][-20:],label='True',alpha=0.25)\n",
    "plt.plot(test['Date'][-20:],arma_pred[-20:],label='ARMA',linewidth=2)\n",
    "plt.plot(test['Date'][-20:],LSTM_pred[-20:],label='LSTM',linewidth=2)\n",
    "\n",
    "plt.ylabel('SPY Level')\n",
    "plt.xticks(rotation=45)\n",
    "plt.legend()"
   ]
  },
  {
   "cell_type": "code",
   "execution_count": 423,
   "id": "b7e95884",
   "metadata": {},
   "outputs": [
    {
     "name": "stdout",
     "output_type": "stream",
     "text": [
      "Epoch 1/5\n",
      "155/155 [==============================] - 8s 39ms/step - loss: 2.6862 - mean_squared_error: 2.6862\n",
      "Epoch 2/5\n",
      "155/155 [==============================] - 6s 38ms/step - loss: 2.6760 - mean_squared_error: 2.6760\n",
      "Epoch 3/5\n",
      "155/155 [==============================] - 6s 38ms/step - loss: 2.6741 - mean_squared_error: 2.6741\n",
      "Epoch 4/5\n",
      "155/155 [==============================] - 6s 38ms/step - loss: 2.6726 - mean_squared_error: 2.6726\n",
      "Epoch 5/5\n",
      "155/155 [==============================] - 6s 38ms/step - loss: 2.6725 - mean_squared_error: 2.6725\n"
     ]
    },
    {
     "data": {
      "text/plain": [
       "<keras.callbacks.History at 0x281172ba8e0>"
      ]
     },
     "execution_count": 423,
     "metadata": {},
     "output_type": "execute_result"
    }
   ],
   "source": [
    "# Base final models LSTM\n",
    "\n",
    "h = 1\n",
    "num_neurons = window = 50\n",
    "\n",
    "\n",
    "use_data = list(np.diff(SPY_df['Close']))\n",
    "\n",
    "X, Y = windowing(use_data[:(len(train.reset_index()['Close'])-1)], window)\n",
    "\n",
    "use_test = use_data[-(len(test.reset_index()['Close']) + window):]\n",
    "X_test, Y_test = windowing(use_test, window)\n",
    "\n",
    "curr_model = keras.Sequential()\n",
    "\n",
    "curr_model.add(layers.LSTM(num_neurons, input_shape=(window, h),return_sequences=False))\n",
    "\n",
    "curr_model.add(layers.Dense(1))\n",
    "curr_model.compile(optimizer='adam', loss='mse', metrics=['mean_squared_error'])\n",
    "\n",
    "curr_model.fit(X, Y, epochs=epochs_size)                "
   ]
  },
  {
   "cell_type": "code",
   "execution_count": 469,
   "id": "83056da1",
   "metadata": {},
   "outputs": [
    {
     "name": "stdout",
     "output_type": "stream",
     "text": [
      "18/18 [==============================] - 1s 18ms/step\n"
     ]
    }
   ],
   "source": [
    "LSTM_pred = np.array([i[0] for i in (curr_model.predict(X_test))] + np.array([list(train.reset_index()['Close'])[-1]] + list(test.reset_index()['Close'])[:-1]))"
   ]
  },
  {
   "cell_type": "code",
   "execution_count": 471,
   "id": "d32f4fdd",
   "metadata": {},
   "outputs": [
    {
     "data": {
      "text/plain": [
       "21.514960853558357"
      ]
     },
     "execution_count": 471,
     "metadata": {},
     "output_type": "execute_result"
    }
   ],
   "source": [
    "np.mean((LSTM_pred - test['Close'])**2)"
   ]
  },
  {
   "cell_type": "code",
   "execution_count": 479,
   "id": "f2e5176c",
   "metadata": {},
   "outputs": [
    {
     "data": {
      "text/plain": [
       "21.533895209690723"
      ]
     },
     "execution_count": 479,
     "metadata": {},
     "output_type": "execute_result"
    }
   ],
   "source": [
    "np.mean(([i[0] for i in arma_pred] - test['Close'])**2)"
   ]
  },
  {
   "cell_type": "code",
   "execution_count": 476,
   "id": "15164953",
   "metadata": {},
   "outputs": [
    {
     "data": {
      "text/plain": [
       "0.9199881390848741"
      ]
     },
     "execution_count": 476,
     "metadata": {},
     "output_type": "execute_result"
    }
   ],
   "source": [
    "np.mean(abs(np.array([i[0] for i in arma_pred] - test['Close']))/abs(np.array(test['Close'])))*100"
   ]
  },
  {
   "cell_type": "code",
   "execution_count": 475,
   "id": "9c6d4e11",
   "metadata": {},
   "outputs": [
    {
     "data": {
      "text/plain": [
       "0.9219809401026945"
      ]
     },
     "execution_count": 475,
     "metadata": {},
     "output_type": "execute_result"
    }
   ],
   "source": [
    "np.mean(abs(np.array(LSTM_pred - test['Close']))/abs(np.array(test['Close'])))*100"
   ]
  },
  {
   "cell_type": "code",
   "execution_count": 456,
   "id": "b6456920",
   "metadata": {},
   "outputs": [
    {
     "data": {
      "text/plain": [
       "Date         2000-05-24 00:00:00\n",
       "Open                       138.0\n",
       "High                    140.6875\n",
       "Low                        136.5\n",
       "Close                     140.25\n",
       "Adj Close              92.566017\n",
       "Volume                  11081500\n",
       "Name: 99, dtype: object"
      ]
     },
     "execution_count": 456,
     "metadata": {},
     "output_type": "execute_result"
    }
   ],
   "source": [
    "train.iloc[99]"
   ]
  },
  {
   "cell_type": "code",
   "execution_count": 517,
   "id": "28863edb",
   "metadata": {},
   "outputs": [
    {
     "name": "stdout",
     "output_type": "stream",
     "text": [
      "Epoch 1/5\n",
      "155/155 [==============================] - 7s 33ms/step - loss: 2.6858 - mean_squared_error: 2.6858\n",
      "Epoch 2/5\n",
      "155/155 [==============================] - 5s 33ms/step - loss: 2.6798 - mean_squared_error: 2.6798\n",
      "Epoch 3/5\n",
      "155/155 [==============================] - 5s 34ms/step - loss: 2.6754 - mean_squared_error: 2.6754\n",
      "Epoch 4/5\n",
      "155/155 [==============================] - 5s 33ms/step - loss: 2.6747 - mean_squared_error: 2.6747\n",
      "Epoch 5/5\n",
      "155/155 [==============================] - 5s 33ms/step - loss: 2.6756 - mean_squared_error: 2.6756\n",
      "18/18 [==============================] - 1s 12ms/step\n",
      "0\n",
      "Epoch 1/5\n",
      "151/151 [==============================] - 8s 40ms/step - loss: 2.6411 - mean_squared_error: 2.6411\n",
      "Epoch 2/5\n",
      "151/151 [==============================] - 6s 40ms/step - loss: 2.6389 - mean_squared_error: 2.6389\n",
      "Epoch 3/5\n",
      "151/151 [==============================] - 6s 40ms/step - loss: 2.6371 - mean_squared_error: 2.6371\n",
      "Epoch 4/5\n",
      "151/151 [==============================] - 6s 39ms/step - loss: 2.6323 - mean_squared_error: 2.6323\n",
      "Epoch 5/5\n",
      "151/151 [==============================] - 6s 39ms/step - loss: 2.6335 - mean_squared_error: 2.6335\n",
      "18/18 [==============================] - 1s 15ms/step\n",
      "1\n",
      "Epoch 1/5\n",
      "148/148 [==============================] - 8s 42ms/step - loss: 2.6227 - mean_squared_error: 2.6227\n",
      "Epoch 2/5\n",
      "148/148 [==============================] - 6s 41ms/step - loss: 2.6154 - mean_squared_error: 2.6154\n",
      "Epoch 3/5\n",
      "148/148 [==============================] - 6s 43ms/step - loss: 2.6134 - mean_squared_error: 2.6134\n",
      "Epoch 4/5\n",
      "148/148 [==============================] - 6s 41ms/step - loss: 2.6134 - mean_squared_error: 2.6134\n",
      "Epoch 5/5\n",
      "148/148 [==============================] - 6s 41ms/step - loss: 2.6135 - mean_squared_error: 2.6135\n",
      "18/18 [==============================] - 1s 15ms/step\n",
      "2\n",
      "Epoch 1/5\n",
      "145/145 [==============================] - 8s 41ms/step - loss: 2.6012 - mean_squared_error: 2.6012\n",
      "Epoch 2/5\n",
      "145/145 [==============================] - 6s 42ms/step - loss: 2.5915 - mean_squared_error: 2.5915\n",
      "Epoch 3/5\n",
      "145/145 [==============================] - 6s 42ms/step - loss: 2.5856 - mean_squared_error: 2.5856\n",
      "Epoch 4/5\n",
      "145/145 [==============================] - 6s 42ms/step - loss: 2.5928 - mean_squared_error: 2.5928\n",
      "Epoch 5/5\n",
      "145/145 [==============================] - 6s 41ms/step - loss: 2.5869 - mean_squared_error: 2.5869\n",
      "18/18 [==============================] - 1s 16ms/step\n",
      "3\n",
      "Epoch 1/5\n",
      "142/142 [==============================] - 7s 38ms/step - loss: 2.6120 - mean_squared_error: 2.6120\n",
      "Epoch 2/5\n",
      "142/142 [==============================] - 5s 38ms/step - loss: 2.5988 - mean_squared_error: 2.5988\n",
      "Epoch 3/5\n",
      "142/142 [==============================] - 6s 40ms/step - loss: 2.5985 - mean_squared_error: 2.5985\n",
      "Epoch 4/5\n",
      "142/142 [==============================] - 5s 38ms/step - loss: 2.5961 - mean_squared_error: 2.5961\n",
      "Epoch 5/5\n",
      "142/142 [==============================] - 5s 38ms/step - loss: 2.5953 - mean_squared_error: 2.5953\n",
      "18/18 [==============================] - 1s 14ms/step\n",
      "4\n",
      "Epoch 1/5\n",
      "139/139 [==============================] - 7s 39ms/step - loss: 2.6343 - mean_squared_error: 2.6343\n",
      "Epoch 2/5\n",
      "139/139 [==============================] - 5s 38ms/step - loss: 2.6227 - mean_squared_error: 2.6227\n",
      "Epoch 3/5\n",
      "139/139 [==============================] - 8s 55ms/step - loss: 2.6217 - mean_squared_error: 2.6217\n",
      "Epoch 4/5\n",
      "139/139 [==============================] - 10s 70ms/step - loss: 2.6211 - mean_squared_error: 2.6211\n",
      "Epoch 5/5\n",
      "139/139 [==============================] - 9s 68ms/step - loss: 2.6130 - mean_squared_error: 2.6130\n",
      "18/18 [==============================] - 1s 19ms/step\n",
      "5\n",
      "Epoch 1/5\n",
      "136/136 [==============================] - 8s 36ms/step - loss: 2.6319 - mean_squared_error: 2.6319\n",
      "Epoch 2/5\n",
      "136/136 [==============================] - 5s 38ms/step - loss: 2.6139 - mean_squared_error: 2.6139\n",
      "Epoch 3/5\n",
      "136/136 [==============================] - 5s 37ms/step - loss: 2.6130 - mean_squared_error: 2.6130\n",
      "Epoch 4/5\n",
      "136/136 [==============================] - 5s 35ms/step - loss: 2.6121 - mean_squared_error: 2.6121\n",
      "Epoch 5/5\n",
      "136/136 [==============================] - 5s 36ms/step - loss: 2.6131 - mean_squared_error: 2.6131\n",
      "18/18 [==============================] - 1s 11ms/step\n",
      "6\n",
      "Epoch 1/5\n",
      "133/133 [==============================] - 9s 42ms/step - loss: 2.6284 - mean_squared_error: 2.6284\n",
      "Epoch 2/5\n",
      "133/133 [==============================] - 5s 39ms/step - loss: 2.6181 - mean_squared_error: 2.6181\n",
      "Epoch 3/5\n",
      "133/133 [==============================] - 6s 43ms/step - loss: 2.6159 - mean_squared_error: 2.6159\n",
      "Epoch 4/5\n",
      "133/133 [==============================] - 7s 55ms/step - loss: 2.6128 - mean_squared_error: 2.6128\n",
      "Epoch 5/5\n",
      "133/133 [==============================] - 6s 46ms/step - loss: 2.6137 - mean_squared_error: 2.6137\n",
      "18/18 [==============================] - 1s 13ms/step\n",
      "7\n",
      "Epoch 1/5\n",
      "130/130 [==============================] - 16s 77ms/step - loss: 2.6595 - mean_squared_error: 2.6595\n",
      "Epoch 2/5\n",
      "130/130 [==============================] - 13s 101ms/step - loss: 2.6526 - mean_squared_error: 2.6526\n",
      "Epoch 3/5\n",
      "130/130 [==============================] - 8s 63ms/step - loss: 2.6464 - mean_squared_error: 2.6464\n",
      "Epoch 4/5\n",
      "130/130 [==============================] - 12s 89ms/step - loss: 2.6487 - mean_squared_error: 2.6487\n",
      "Epoch 5/5\n",
      "130/130 [==============================] - 10s 75ms/step - loss: 2.6421 - mean_squared_error: 2.6421\n",
      "18/18 [==============================] - 2s 29ms/step\n",
      "8\n",
      "Epoch 1/5\n",
      "126/126 [==============================] - 10s 48ms/step - loss: 2.7110 - mean_squared_error: 2.7110\n",
      "Epoch 2/5\n",
      "126/126 [==============================] - 6s 47ms/step - loss: 2.6990 - mean_squared_error: 2.6990\n",
      "Epoch 3/5\n",
      "126/126 [==============================] - 6s 49ms/step - loss: 2.6953 - mean_squared_error: 2.6953\n",
      "Epoch 4/5\n",
      "126/126 [==============================] - 6s 48ms/step - loss: 2.6943 - mean_squared_error: 2.6943\n",
      "Epoch 5/5\n",
      "126/126 [==============================] - 6s 50ms/step - loss: 2.6922 - mean_squared_error: 2.6922\n",
      "18/18 [==============================] - 1s 17ms/step\n",
      "9\n"
     ]
    }
   ],
   "source": [
    "# reduced data\n",
    "\n",
    "res_dt = {}\n",
    "\n",
    "for k in range(10):\n",
    "    \n",
    "    takeout = k*100\n",
    "\n",
    "    arma_pred = []\n",
    "    \n",
    "    train_use = train.iloc[takeout:]\n",
    "\n",
    "    for j in range(len(test)):\n",
    "        use_data = list(train_use['Close'][j:]) + list(test['Close'][0:j])\n",
    "\n",
    "        curr_model = ARIMA(use_data, order=(2,1,0))\n",
    "        curr_model_fit = curr_model.fit()\n",
    "\n",
    "        arma_pred.append(float(curr_model_fit.forecast()))\n",
    "\n",
    "    h = 1\n",
    "    num_neurons = window = 50\n",
    "    \n",
    "    new_agg = pd.concat([train_use,test])\n",
    "    use_data = list(np.diff(new_agg['Close']))\n",
    "\n",
    "    X, Y = windowing(use_data[:(len(train_use.reset_index()['Close'])-1)], window)\n",
    "\n",
    "    use_test = use_data[-(len(test.reset_index()['Close']) + window):]\n",
    "    X_test, Y_test = windowing(use_test, window)\n",
    "\n",
    "    curr_model = keras.Sequential()\n",
    "\n",
    "    curr_model.add(layers.LSTM(num_neurons, input_shape=(window, h),return_sequences=False))\n",
    "\n",
    "    curr_model.add(layers.Dense(1))\n",
    "    curr_model.compile(optimizer='adam', loss='mse', metrics=['mean_squared_error'])\n",
    "\n",
    "    curr_model.fit(X, Y, epochs=epochs_size)\n",
    "    \n",
    "    LSTM_pred = np.array([i[0] for i in (curr_model.predict(X_test))] + np.array([list(train_use.reset_index()['Close'])[-1]] + list(test.reset_index()['Close'])[:-1]))\n",
    "    \n",
    "    arma_miss = np.mean(np.array(arma_pred - np.array(list(test['Close'])))**2)\n",
    "    LSTM_miss = np.mean((LSTM_pred - list(test['Close']))**2)\n",
    "    \n",
    "    arma_mape = np.mean(abs(np.array(arma_pred - test['Close']))/abs(np.array(test['Close'])))*100\n",
    "    LSTM_mape = np.mean(abs(np.array(LSTM_pred - test['Close']))/abs(np.array(test['Close'])))*100\n",
    "    \n",
    "    print(k)\n",
    "    res_dt[k] = [arma_miss,LSTM_miss,arma_mape,LSTM_mape]"
   ]
  }
 ],
 "metadata": {
  "kernelspec": {
   "display_name": "Python 3",
   "language": "python",
   "name": "python3"
  },
  "language_info": {
   "codemirror_mode": {
    "name": "ipython",
    "version": 3
   },
   "file_extension": ".py",
   "mimetype": "text/x-python",
   "name": "python",
   "nbconvert_exporter": "python",
   "pygments_lexer": "ipython3",
   "version": "3.8.5"
  }
 },
 "nbformat": 4,
 "nbformat_minor": 5
}
